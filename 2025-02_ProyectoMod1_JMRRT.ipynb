{
 "cells": [
  {
   "cell_type": "markdown",
   "metadata": {},
   "source": [
    "# Proyecto Integrado Módulo 1:"
   ]
  },
  {
   "cell_type": "markdown",
   "metadata": {},
   "source": [
    "## Introducción:"
   ]
  },
  {
   "cell_type": "markdown",
   "metadata": {},
   "source": [
    "A lo largo de este proyecto, se analizará una base de datos en la que se reunen datos de diferentes videojuegos para distintas plataformas con sus años de lanzamiento, género, ventas por región y la calificación de usuarios y críticos profesionales."
   ]
  },
  {
   "cell_type": "markdown",
   "metadata": {},
   "source": [
    "El objetivo del trabajo será conocer el comportamiento de las ventas de los juegos y plataformas de modo que, entre otras acciones, podamos planificar campañas de ventas para futuros videojuegos."
   ]
  },
  {
   "cell_type": "markdown",
   "metadata": {},
   "source": [
    "### Carga de librerías y datos:"
   ]
  },
  {
   "cell_type": "code",
   "execution_count": 1,
   "metadata": {},
   "outputs": [],
   "source": [
    "# Cargamos las librerías que se utilizarán en el proyecto.\n",
    "import pandas as pd\n",
    "import numpy as np\n",
    "from matplotlib import pyplot as plt\n",
    "from scipy import stats as st"
   ]
  },
  {
   "cell_type": "code",
   "execution_count": 3,
   "metadata": {},
   "outputs": [
    {
     "data": {
      "text/html": [
       "<div>\n",
       "<style scoped>\n",
       "    .dataframe tbody tr th:only-of-type {\n",
       "        vertical-align: middle;\n",
       "    }\n",
       "\n",
       "    .dataframe tbody tr th {\n",
       "        vertical-align: top;\n",
       "    }\n",
       "\n",
       "    .dataframe thead th {\n",
       "        text-align: right;\n",
       "    }\n",
       "</style>\n",
       "<table border=\"1\" class=\"dataframe\">\n",
       "  <thead>\n",
       "    <tr style=\"text-align: right;\">\n",
       "      <th></th>\n",
       "      <th>Name</th>\n",
       "      <th>Platform</th>\n",
       "      <th>Year_of_Release</th>\n",
       "      <th>Genre</th>\n",
       "      <th>NA_sales</th>\n",
       "      <th>EU_sales</th>\n",
       "      <th>JP_sales</th>\n",
       "      <th>Other_sales</th>\n",
       "      <th>Critic_Score</th>\n",
       "      <th>User_Score</th>\n",
       "      <th>Rating</th>\n",
       "    </tr>\n",
       "  </thead>\n",
       "  <tbody>\n",
       "    <tr>\n",
       "      <th>16483</th>\n",
       "      <td>Petz: Hamsterz Life 2</td>\n",
       "      <td>GBA</td>\n",
       "      <td>2007.0</td>\n",
       "      <td>Misc</td>\n",
       "      <td>0.01</td>\n",
       "      <td>0.00</td>\n",
       "      <td>0.00</td>\n",
       "      <td>0.00</td>\n",
       "      <td>NaN</td>\n",
       "      <td>NaN</td>\n",
       "      <td>NaN</td>\n",
       "    </tr>\n",
       "    <tr>\n",
       "      <th>3953</th>\n",
       "      <td>Paws &amp; Claws: Dogs &amp; Cats Best Friends</td>\n",
       "      <td>DS</td>\n",
       "      <td>2007.0</td>\n",
       "      <td>Simulation</td>\n",
       "      <td>0.46</td>\n",
       "      <td>0.01</td>\n",
       "      <td>0.00</td>\n",
       "      <td>0.04</td>\n",
       "      <td>NaN</td>\n",
       "      <td>NaN</td>\n",
       "      <td>NaN</td>\n",
       "    </tr>\n",
       "    <tr>\n",
       "      <th>12499</th>\n",
       "      <td>Call of Cthulhu: Dark Corners of the Earth</td>\n",
       "      <td>XB</td>\n",
       "      <td>2005.0</td>\n",
       "      <td>Adventure</td>\n",
       "      <td>0.05</td>\n",
       "      <td>0.01</td>\n",
       "      <td>0.00</td>\n",
       "      <td>0.00</td>\n",
       "      <td>77.0</td>\n",
       "      <td>8.1</td>\n",
       "      <td>M</td>\n",
       "    </tr>\n",
       "    <tr>\n",
       "      <th>9997</th>\n",
       "      <td>Deception IV: Blood Ties</td>\n",
       "      <td>PS3</td>\n",
       "      <td>2014.0</td>\n",
       "      <td>Action</td>\n",
       "      <td>0.03</td>\n",
       "      <td>0.02</td>\n",
       "      <td>0.06</td>\n",
       "      <td>0.01</td>\n",
       "      <td>70.0</td>\n",
       "      <td>8.2</td>\n",
       "      <td>M</td>\n",
       "    </tr>\n",
       "    <tr>\n",
       "      <th>710</th>\n",
       "      <td>Onimusha 2: Samurai's Destiny</td>\n",
       "      <td>PS2</td>\n",
       "      <td>2002.0</td>\n",
       "      <td>Adventure</td>\n",
       "      <td>0.62</td>\n",
       "      <td>0.44</td>\n",
       "      <td>1.06</td>\n",
       "      <td>0.13</td>\n",
       "      <td>84.0</td>\n",
       "      <td>9</td>\n",
       "      <td>M</td>\n",
       "    </tr>\n",
       "  </tbody>\n",
       "</table>\n",
       "</div>"
      ],
      "text/plain": [
       "                                             Name Platform  Year_of_Release  \\\n",
       "16483                       Petz: Hamsterz Life 2      GBA           2007.0   \n",
       "3953       Paws & Claws: Dogs & Cats Best Friends       DS           2007.0   \n",
       "12499  Call of Cthulhu: Dark Corners of the Earth       XB           2005.0   \n",
       "9997                     Deception IV: Blood Ties      PS3           2014.0   \n",
       "710                 Onimusha 2: Samurai's Destiny      PS2           2002.0   \n",
       "\n",
       "            Genre  NA_sales  EU_sales  JP_sales  Other_sales  Critic_Score  \\\n",
       "16483        Misc      0.01      0.00      0.00         0.00           NaN   \n",
       "3953   Simulation      0.46      0.01      0.00         0.04           NaN   \n",
       "12499   Adventure      0.05      0.01      0.00         0.00          77.0   \n",
       "9997       Action      0.03      0.02      0.06         0.01          70.0   \n",
       "710     Adventure      0.62      0.44      1.06         0.13          84.0   \n",
       "\n",
       "      User_Score Rating  \n",
       "16483        NaN    NaN  \n",
       "3953         NaN    NaN  \n",
       "12499        8.1      M  \n",
       "9997         8.2      M  \n",
       "710            9      M  "
      ]
     },
     "execution_count": 3,
     "metadata": {},
     "output_type": "execute_result"
    }
   ],
   "source": [
    "# Cargamos la base de datos:\n",
    "path = 'C:/Users/jmrey/OneDrive/Jose Ma/Casos Análisis de Datos/2025_Consolas/'\n",
    "file = 'games.csv'\n",
    "\n",
    "df_games = pd.read_csv(path + file)\n",
    "\n",
    "# Presentamos el dataframe:\n",
    "df_games.sample(5)"
   ]
  },
  {
   "cell_type": "markdown",
   "metadata": {},
   "source": [
    "## Preparación de los datos:"
   ]
  },
  {
   "cell_type": "markdown",
   "metadata": {},
   "source": [
    "En esta segunda sección verificaremos la estructura del DataFrame que hemos creado con la base de datos de videojuegos importada. Así mismo, realizaremos los cambios que se consideren pertinentes para trabajar de forma más sencilla, clara y ordenada en los siguientes pasos del proyecto."
   ]
  },
  {
   "cell_type": "code",
   "execution_count": 4,
   "metadata": {},
   "outputs": [
    {
     "name": "stdout",
     "output_type": "stream",
     "text": [
      "<class 'pandas.core.frame.DataFrame'>\n",
      "RangeIndex: 16715 entries, 0 to 16714\n",
      "Data columns (total 11 columns):\n",
      " #   Column           Non-Null Count  Dtype  \n",
      "---  ------           --------------  -----  \n",
      " 0   Name             16713 non-null  object \n",
      " 1   Platform         16715 non-null  object \n",
      " 2   Year_of_Release  16446 non-null  float64\n",
      " 3   Genre            16713 non-null  object \n",
      " 4   NA_sales         16715 non-null  float64\n",
      " 5   EU_sales         16715 non-null  float64\n",
      " 6   JP_sales         16715 non-null  float64\n",
      " 7   Other_sales      16715 non-null  float64\n",
      " 8   Critic_Score     8137 non-null   float64\n",
      " 9   User_Score       10014 non-null  object \n",
      " 10  Rating           9949 non-null   object \n",
      "dtypes: float64(6), object(5)\n",
      "memory usage: 1.4+ MB\n"
     ]
    }
   ],
   "source": [
    "# Vemos el tipo de dato, nombre de las columnas y cantidad de datos faltantes de cada columna:\n",
    "df_games.info()"
   ]
  },
  {
   "cell_type": "code",
   "execution_count": 6,
   "metadata": {},
   "outputs": [
    {
     "name": "stdout",
     "output_type": "stream",
     "text": [
      "En el DataFrame se cuentan con 0 registros duplicados.\n"
     ]
    }
   ],
   "source": [
    "# Revisamos el número de registros duplicados:\n",
    "print(f\"En el DataFrame se cuentan con {df_games.duplicated().sum()} registros duplicados.\")"
   ]
  },
  {
   "cell_type": "markdown",
   "metadata": {},
   "source": [
    "Algunas observaciones iniciales que podrán ser relevantes:\n",
    "1) El nombre de las columnas convendrá convertirlo al llamado \"snake_case\", poniendo todo a minúsculas.\n",
    "2) El año de lanzamiento será mejor manejarlo como un número entero.\n",
    "3) La calificación de usuarios deberemos cambiarla a un tipo de dato flotante y convendrá multiplicarla por 10 para dejarla en la misma escala la calificación de la crítica.\n",
    "4) Para cada columna indagaremos sobre el porqué se tienen los datos ausentes y como conviene manejarlos.\n",
    "\n",
    "Al momento de revisar cada una de las columnas se analizarán los valores duplicados que puedan existir y como manejarlos."
   ]
  },
  {
   "cell_type": "code",
   "execution_count": 7,
   "metadata": {},
   "outputs": [
    {
     "name": "stdout",
     "output_type": "stream",
     "text": [
      "Las nuevas columnas son: \n",
      " Index(['name', 'platform', 'year_of_release', 'genre', 'na_sales', 'eu_sales',\n",
      "       'jp_sales', 'other_sales', 'critic_score', 'user_score', 'rating'],\n",
      "      dtype='object')\n"
     ]
    }
   ],
   "source": [
    "# Convertiremos las columnas al \"snake_case\":\n",
    "columnas = df_games.columns\n",
    "\n",
    "columnas_nuevas = [columna.lower().replace(' ', '_') for columna in columnas]\n",
    "\n",
    "df_games.columns = columnas_nuevas\n",
    "\n",
    "print(\"Las nuevas columnas son: \\n\", df_games.columns)"
   ]
  },
  {
   "cell_type": "code",
   "execution_count": 9,
   "metadata": {},
   "outputs": [
    {
     "name": "stdout",
     "output_type": "stream",
     "text": [
      "Nuevo tipo de dato para la columna 'year_of_release':  Int64\n"
     ]
    }
   ],
   "source": [
    "# Cambiaremos el tipo de dato ara la columna \"year\" a \"int64\":\n",
    "df_games['year_of_release'] = df_games['year_of_release'].astype('Int64')\n",
    "\n",
    "print(\"Nuevo tipo de dato para la columna 'year_of_release': \", df_games['year_of_release'].dtype)"
   ]
  },
  {
   "cell_type": "code",
   "execution_count": 12,
   "metadata": {},
   "outputs": [
    {
     "name": "stdout",
     "output_type": "stream",
     "text": [
      "Nuevo tipo de dato para la columna 'user_score':  float64\n"
     ]
    }
   ],
   "source": [
    "# Modificaremos la columna de \"user_score\" para que sea de tipo \"float64\" y que esté en la misma escala que\n",
    "# la columna \"critic_score\":\n",
    "\n",
    "# Al intentar realizar el cambio de tipo de dato para la columna \"user_score\" se generó un error\n",
    "# \"ValueError: could not convert string to float: 'tbd'\". Por esto, se procede a cambiar los valores\n",
    "# \"tbd\" por \"NaN\" y posteriormente cambiar el tipo de dato de la columna:\n",
    "\n",
    "df_games['user_score'] = df_games['user_score'].replace('tbd', np.nan)\n",
    "df_games['user_score'] = df_games['user_score'].astype('float64')\n",
    "df_games['user_score'] = df_games['user_score'] * 10\n",
    "\n",
    "print(\"Nuevo tipo de dato para la columna 'user_score': \", df_games['user_score'].dtype)"
   ]
  },
  {
   "cell_type": "markdown",
   "metadata": {},
   "source": [
    "A continuación, exploraremos columna por columna para validar duplicados y datos ausentes y trabajarlos según corresponda."
   ]
  },
  {
   "cell_type": "code",
   "execution_count": 13,
   "metadata": {},
   "outputs": [
    {
     "name": "stdout",
     "output_type": "stream",
     "text": [
      "Cantidad de valores únicos en la columna 'name':  11559\n",
      "Cantidad de valores faltantes en la columna 'name':  2\n"
     ]
    }
   ],
   "source": [
    "# Iniciamos con la columna \"name\":\n",
    "print(\"Cantidad de valores únicos en la columna 'name': \", df_games['name'].nunique())\n",
    "print(\"Cantidad de valores faltantes en la columna 'name': \", df_games['name'].isnull().sum())"
   ]
  },
  {
   "cell_type": "markdown",
   "metadata": {},
   "source": [
    "En esta columna estamos analizando los nombres de los videojuegos, por lo mismo, es de esperarse que haya registros repetidos, pues un mismo videojuego podrá estar en varias plataformas.\n",
    "\n",
    "Así mismo, sustituiremos los valores faltantes por \"no definido\".\n",
    "\n",
    "Por último, convertiremos los nombres al \"snake_case\" para evitar duplicados no explícitos."
   ]
  },
  {
   "cell_type": "code",
   "execution_count": 14,
   "metadata": {},
   "outputs": [
    {
     "name": "stdout",
     "output_type": "stream",
     "text": [
      "Cantidad de valores únicos en la columna 'name':  11560\n",
      "Cantidad de valores faltantes en la columna 'name':  0\n"
     ]
    }
   ],
   "source": [
    "# Convertimos al \"snake_case\" los nombres de los juegos:\n",
    "df_games['name'] = df_games['name'].replace(\" \",\"_\").str.lower()\n",
    "\n",
    "# Asignamos \"no_definido\" a los valores faltantes en la columna \"name\":\n",
    "df_games['name'] = df_games['name'].fillna('no_definido')\n",
    "\n",
    "# Validamos:\n",
    "print(\"Cantidad de valores únicos en la columna 'name': \", df_games['name'].nunique())\n",
    "print(\"Cantidad de valores faltantes en la columna 'name': \", df_games['name'].isnull().sum())"
   ]
  },
  {
   "cell_type": "code",
   "execution_count": 15,
   "metadata": {},
   "outputs": [
    {
     "name": "stdout",
     "output_type": "stream",
     "text": [
      "Cantidad de valores únicos en la columna 'platform':  31\n",
      "Cantidad de valores faltantes en la columna 'platform':  0\n"
     ]
    }
   ],
   "source": [
    "# Continuamos con la columna \"platform\":\n",
    "print(\"Cantidad de valores únicos en la columna 'platform': \", df_games['platform'].nunique())\n",
    "print(\"Cantidad de valores faltantes en la columna 'platform': \", df_games['platform'].isnull().sum())"
   ]
  },
  {
   "cell_type": "code",
   "execution_count": 16,
   "metadata": {},
   "outputs": [
    {
     "name": "stdout",
     "output_type": "stream",
     "text": [
      "Valores únicos en la columna 'platform':  ['Wii' 'NES' 'GB' 'DS' 'X360' 'PS3' 'PS2' 'SNES' 'GBA' 'PS4' '3DS' 'N64'\n",
      " 'PS' 'XB' 'PC' '2600' 'PSP' 'XOne' 'WiiU' 'GC' 'GEN' 'DC' 'PSV' 'SAT'\n",
      " 'SCD' 'WS' 'NG' 'TG16' '3DO' 'GG' 'PCFX']\n"
     ]
    }
   ],
   "source": [
    "# Puesto que son pocos los nombres de las consolas, los podemos validar manualmente:\n",
    "print(\"Valores únicos en la columna 'platform': \", df_games['platform'].unique())"
   ]
  },
  {
   "cell_type": "markdown",
   "metadata": {},
   "source": [
    "No se aprecia nada que valga la pena modificar para la columna de plataformas. Si bien, pudieran convertirse los nombres de las plataformas todo a minúsculas o todo a mayúsculas, en el contexto de sus nombres tiene sentido mantenerse como está."
   ]
  },
  {
   "cell_type": "code",
   "execution_count": 17,
   "metadata": {},
   "outputs": [
    {
     "name": "stdout",
     "output_type": "stream",
     "text": [
      "Cantidad de valores faltantes en la columna 'year_of_release':  269\n",
      "El primer año de registro es: 1980, el último es: 2016\n"
     ]
    }
   ],
   "source": [
    "# La siguiente es la columna \"year_of_release\":\n",
    "print(\"Cantidad de valores faltantes en la columna 'year_of_release': \", df_games['year_of_release'].isnull().sum())\n",
    "print(f\"El primer año de registro es: {df_games['year_of_release'].min()}, el último es: {df_games['year_of_release'].max()}\")"
   ]
  },
  {
   "cell_type": "markdown",
   "metadata": {},
   "source": [
    "No tendría sentido reemplazar los valores ausentes con la media o la mediana del total de la información, por esto, la ruta que se seguirá será:\n",
    "1) Validar si el título con año de lanzamiento faltante se ha lanzado para otra plataforma. Si sí, se usará ese mismo año para reemplazar.\n",
    "2) Validar la consola del videojuego y reeplazar con la mediana de los años en que esta consola estuvo vigente el año de lanzamiento del juego."
   ]
  },
  {
   "cell_type": "code",
   "execution_count": 31,
   "metadata": {},
   "outputs": [
    {
     "name": "stdout",
     "output_type": "stream",
     "text": [
      "Cantidad de valores faltantes en la columna 'year_of_release':  0\n"
     ]
    }
   ],
   "source": [
    "# Utilizaremos un for-loop para implementar la ruta previamente establecida:\n",
    "for i, row in df_games[df_games['year_of_release'].isnull() == True].iterrows():\n",
    "    plataforma = row['platform']\n",
    "    nombre = row['name']\n",
    "\n",
    "    # Validamos si hay registro del año de lanzamiento para otras plataformas:\n",
    "    año_lanzamiento = df_games[df_games['name']==nombre]['year_of_release'].mode()\n",
    "    # Si los videojuegos de otras plataformas tampoco tienen año de lanzamiento registrado:\n",
    "    if año_lanzamiento.empty == False:\n",
    "        df_games.loc[i,'year_of_release'] = año_lanzamiento[0]\n",
    "    # Si no se tiene año de lanzamiento para otras plataformas, se asignará la mediana de la plataforma:\n",
    "    else:\n",
    "        año_plataforma = df_games[df_games['platform']==plataforma]['year_of_release'].median()\n",
    "        df_games.loc[i,'year_of_release'] = año_plataforma\n",
    "\n",
    "# Validamos:\n",
    "print(\"Cantidad de valores faltantes en la columna 'year_of_release': \", df_games['year_of_release'].isnull().sum())"
   ]
  },
  {
   "cell_type": "code",
   "execution_count": 32,
   "metadata": {},
   "outputs": [
    {
     "name": "stdout",
     "output_type": "stream",
     "text": [
      "Cantidad de valores únicos en la columna 'genre':  12\n",
      "Cantidad de valores faltantes en la columna 'genre':  2\n"
     ]
    }
   ],
   "source": [
    "# Seguimos trabajando con la columna \"genre\":\n",
    "print(\"Cantidad de valores únicos en la columna 'genre': \", df_games['genre'].nunique())\n",
    "print(\"Cantidad de valores faltantes en la columna 'genre': \", df_games['genre'].isnull().sum())"
   ]
  },
  {
   "cell_type": "code",
   "execution_count": 33,
   "metadata": {},
   "outputs": [
    {
     "name": "stdout",
     "output_type": "stream",
     "text": [
      "Valores únicos en la columna 'genre':  ['Sports' 'Platform' 'Racing' 'Role-Playing' 'Puzzle' 'Misc' 'Shooter'\n",
      " 'Simulation' 'Action' 'Fighting' 'Adventure' 'Strategy' nan]\n",
      "Cantidad de valores faltantes en la columna 'genre':  0\n"
     ]
    }
   ],
   "source": [
    "# Vemos que son pocos valores únicos, por lo que analizamos manualmente:\n",
    "print(\"Valores únicos en la columna 'genre': \", df_games['genre'].unique())\n",
    "\n",
    "# Así mismo, podemos reemplazar los valores faltantes por \"no_definido\":\n",
    "df_games['genre'] = df_games['genre'].fillna('no_definido')\n",
    "print(\"Cantidad de valores faltantes en la columna 'genre': \", df_games['genre'].isnull().sum())"
   ]
  },
  {
   "cell_type": "markdown",
   "metadata": {},
   "source": [
    "Semejante a lo visto con las consolas, contamos con registros en que están en mayúsculas y minúsculas, por orden pasaremos todo a minúsculas a pesar de que no nos causaría afectaciones no hacerlo."
   ]
  },
  {
   "cell_type": "code",
   "execution_count": 34,
   "metadata": {},
   "outputs": [
    {
     "name": "stdout",
     "output_type": "stream",
     "text": [
      "Valores únicos en la columna 'genre':  ['sports' 'platform' 'racing' 'role-playing' 'puzzle' 'misc' 'shooter'\n",
      " 'simulation' 'action' 'fighting' 'adventure' 'strategy' 'no_definido']\n"
     ]
    }
   ],
   "source": [
    "# Pasamos a minúsculas todos los valores de la columna \"genre\":\n",
    "df_games['genre'] = df_games['genre'].str.lower()\n",
    "print(\"Valores únicos en la columna 'genre': \", df_games['genre'].unique())"
   ]
  },
  {
   "cell_type": "markdown",
   "metadata": {},
   "source": [
    "Sabemos que las columnas NA_sales, EU_sales, JP_sales y Other_sales son numéricas y no cuentan con valores ausentes así que las saltamos."
   ]
  },
  {
   "cell_type": "code",
   "execution_count": 37,
   "metadata": {},
   "outputs": [
    {
     "name": "stdout",
     "output_type": "stream",
     "text": [
      "Cantidad de valores faltantes en la columna 'critic_score':  8578\n"
     ]
    }
   ],
   "source": [
    "# Continuamos con la columna \"critic_score\":\n",
    "print(\"Cantidad de valores faltantes en la columna 'critic_score': \", df_games['critic_score'].isnull().sum())"
   ]
  },
  {
   "cell_type": "markdown",
   "metadata": {},
   "source": [
    "Al tratarse de la calificación que asignan críticos profesionales a un videojuego en su presentación de plataforma, no conviene reemplazar con un valor fijo los valores ausentes, en cambio, interpretamos que dicho juego no tuvo el alcance o las condiciones para ser calificado, por esto, dejaremos los ausentes como NaN y posteriormente adaptaremos esta condición a nuestro análisis."
   ]
  },
  {
   "cell_type": "code",
   "execution_count": 38,
   "metadata": {},
   "outputs": [
    {
     "name": "stdout",
     "output_type": "stream",
     "text": [
      "Cantidad de valores faltantes en la columna 'user_score':  9125\n"
     ]
    }
   ],
   "source": [
    "# Lo mismo con la columna \"user_score\":\n",
    "print(\"Cantidad de valores faltantes en la columna 'user_score': \", df_games['user_score'].isnull().sum())"
   ]
  },
  {
   "cell_type": "markdown",
   "metadata": {},
   "source": [
    "Manejaremos esta columna de forma semejante a la de la calificación de la crítica, no conviene reemplazar con un valor fijo los valores ausentes, en cambio, interpretamos que dicho juego no tuvo el alcance o las condiciones para ser calificado, por esto, dejaremos los ausentes como NaN y posteriormente adaptaremos esta condición a nuestro análisis."
   ]
  },
  {
   "cell_type": "code",
   "execution_count": 39,
   "metadata": {},
   "outputs": [
    {
     "name": "stdout",
     "output_type": "stream",
     "text": [
      "Cantidad de valores únicos en la columna 'rating':  8\n",
      "Cantidad de valores faltantes en la columna 'rating':  6766\n"
     ]
    }
   ],
   "source": [
    "# Por último, la columna \"rating\":\n",
    "print(\"Cantidad de valores únicos en la columna 'rating': \", df_games['rating'].nunique())\n",
    "print(\"Cantidad de valores faltantes en la columna 'rating': \", df_games['rating'].isnull().sum())"
   ]
  },
  {
   "cell_type": "code",
   "execution_count": 40,
   "metadata": {},
   "outputs": [
    {
     "name": "stdout",
     "output_type": "stream",
     "text": [
      "Valores únicos en la columna 'rating':  ['E' nan 'M' 'T' 'E10+' 'K-A' 'AO' 'EC' 'RP']\n"
     ]
    }
   ],
   "source": [
    "# Vemos que son pocos valores únicos, por lo que analizamos manualmente:\n",
    "print(\"Valores únicos en la columna 'rating': \", df_games['rating'].unique())"
   ]
  },
  {
   "cell_type": "code",
   "execution_count": 41,
   "metadata": {},
   "outputs": [
    {
     "name": "stdout",
     "output_type": "stream",
     "text": [
      "Cantidad de valores faltantes en la columna 'rating':  0\n"
     ]
    }
   ],
   "source": [
    "# Reemplazamos los valores ausentes por \"sin_clasificar\":\n",
    "df_games['rating'] = df_games['rating'].fillna('sin_clasificar')\n",
    "\n",
    "# Validamos:\n",
    "print(\"Cantidad de valores faltantes en la columna 'rating': \", df_games['rating'].isnull().sum())"
   ]
  },
  {
   "cell_type": "markdown",
   "metadata": {},
   "source": [
    "## Revisión inicial de los datos:"
   ]
  },
  {
   "cell_type": "markdown",
   "metadata": {},
   "source": [
    "Ya con nuestra información homogeneizada y ajustada a lo que consideramos necesario, obtendremos algo de información preliminar estadística que nos de un poco más de rumbo camino al análisis del trabajo."
   ]
  },
  {
   "cell_type": "code",
   "execution_count": 43,
   "metadata": {},
   "outputs": [
    {
     "data": {
      "text/html": [
       "<div>\n",
       "<style scoped>\n",
       "    .dataframe tbody tr th:only-of-type {\n",
       "        vertical-align: middle;\n",
       "    }\n",
       "\n",
       "    .dataframe tbody tr th {\n",
       "        vertical-align: top;\n",
       "    }\n",
       "\n",
       "    .dataframe thead th {\n",
       "        text-align: right;\n",
       "    }\n",
       "</style>\n",
       "<table border=\"1\" class=\"dataframe\">\n",
       "  <thead>\n",
       "    <tr style=\"text-align: right;\">\n",
       "      <th></th>\n",
       "      <th>count</th>\n",
       "      <th>mean</th>\n",
       "      <th>std</th>\n",
       "      <th>min</th>\n",
       "      <th>25%</th>\n",
       "      <th>50%</th>\n",
       "      <th>75%</th>\n",
       "      <th>max</th>\n",
       "    </tr>\n",
       "  </thead>\n",
       "  <tbody>\n",
       "    <tr>\n",
       "      <th>year_of_release</th>\n",
       "      <td>16715.0</td>\n",
       "      <td>2006.469758</td>\n",
       "      <td>5.896963</td>\n",
       "      <td>1980.0</td>\n",
       "      <td>2003.0</td>\n",
       "      <td>2007.0</td>\n",
       "      <td>2010.0</td>\n",
       "      <td>2016.0</td>\n",
       "    </tr>\n",
       "    <tr>\n",
       "      <th>na_sales</th>\n",
       "      <td>16715.0</td>\n",
       "      <td>0.263377</td>\n",
       "      <td>0.813604</td>\n",
       "      <td>0.0</td>\n",
       "      <td>0.0</td>\n",
       "      <td>0.08</td>\n",
       "      <td>0.24</td>\n",
       "      <td>41.36</td>\n",
       "    </tr>\n",
       "    <tr>\n",
       "      <th>eu_sales</th>\n",
       "      <td>16715.0</td>\n",
       "      <td>0.14506</td>\n",
       "      <td>0.503339</td>\n",
       "      <td>0.0</td>\n",
       "      <td>0.0</td>\n",
       "      <td>0.02</td>\n",
       "      <td>0.11</td>\n",
       "      <td>28.96</td>\n",
       "    </tr>\n",
       "    <tr>\n",
       "      <th>jp_sales</th>\n",
       "      <td>16715.0</td>\n",
       "      <td>0.077617</td>\n",
       "      <td>0.308853</td>\n",
       "      <td>0.0</td>\n",
       "      <td>0.0</td>\n",
       "      <td>0.0</td>\n",
       "      <td>0.04</td>\n",
       "      <td>10.22</td>\n",
       "    </tr>\n",
       "    <tr>\n",
       "      <th>other_sales</th>\n",
       "      <td>16715.0</td>\n",
       "      <td>0.047342</td>\n",
       "      <td>0.186731</td>\n",
       "      <td>0.0</td>\n",
       "      <td>0.0</td>\n",
       "      <td>0.01</td>\n",
       "      <td>0.03</td>\n",
       "      <td>10.57</td>\n",
       "    </tr>\n",
       "    <tr>\n",
       "      <th>critic_score</th>\n",
       "      <td>8137.0</td>\n",
       "      <td>68.967679</td>\n",
       "      <td>13.938165</td>\n",
       "      <td>13.0</td>\n",
       "      <td>60.0</td>\n",
       "      <td>71.0</td>\n",
       "      <td>79.0</td>\n",
       "      <td>98.0</td>\n",
       "    </tr>\n",
       "    <tr>\n",
       "      <th>user_score</th>\n",
       "      <td>7590.0</td>\n",
       "      <td>71.250461</td>\n",
       "      <td>15.000061</td>\n",
       "      <td>0.0</td>\n",
       "      <td>64.0</td>\n",
       "      <td>75.0</td>\n",
       "      <td>82.0</td>\n",
       "      <td>97.0</td>\n",
       "    </tr>\n",
       "  </tbody>\n",
       "</table>\n",
       "</div>"
      ],
      "text/plain": [
       "                   count         mean        std     min     25%     50%  \\\n",
       "year_of_release  16715.0  2006.469758   5.896963  1980.0  2003.0  2007.0   \n",
       "na_sales         16715.0     0.263377   0.813604     0.0     0.0    0.08   \n",
       "eu_sales         16715.0      0.14506   0.503339     0.0     0.0    0.02   \n",
       "jp_sales         16715.0     0.077617   0.308853     0.0     0.0     0.0   \n",
       "other_sales      16715.0     0.047342   0.186731     0.0     0.0    0.01   \n",
       "critic_score      8137.0    68.967679  13.938165    13.0    60.0    71.0   \n",
       "user_score        7590.0    71.250461  15.000061     0.0    64.0    75.0   \n",
       "\n",
       "                    75%     max  \n",
       "year_of_release  2010.0  2016.0  \n",
       "na_sales           0.24   41.36  \n",
       "eu_sales           0.11   28.96  \n",
       "jp_sales           0.04   10.22  \n",
       "other_sales        0.03   10.57  \n",
       "critic_score       79.0    98.0  \n",
       "user_score         82.0    97.0  "
      ]
     },
     "execution_count": 43,
     "metadata": {},
     "output_type": "execute_result"
    }
   ],
   "source": [
    "# El método describe siempre es un buen punto de partida:\n",
    "df_games.describe().T.round(2)"
   ]
  },
  {
   "cell_type": "code",
   "execution_count": 44,
   "metadata": {},
   "outputs": [
    {
     "name": "stdout",
     "output_type": "stream",
     "text": [
      "Ventas totales en NA:  4402.35\n",
      "Ventas totales en EU:  2424.67\n",
      "Ventas totales en JP:  1297.37\n",
      "Ventas totales en otras regiones:  791.32\n",
      "Ventas totales globales:  8915.71\n"
     ]
    }
   ],
   "source": [
    "# Así mismo, conocer las ventas totales será un buen indicador:\n",
    "df_games['global_sales'] = df_games['na_sales'] + df_games['eu_sales'] + df_games['jp_sales'] + df_games['other_sales']\n",
    "print(\"Ventas totales en NA: \", df_games['na_sales'].sum())\n",
    "print(\"Ventas totales en EU: \", df_games['eu_sales'].sum())\n",
    "print(\"Ventas totales en JP: \", df_games['jp_sales'].sum())\n",
    "print(\"Ventas totales en otras regiones: \", df_games['other_sales'].sum())\n",
    "print(\"Ventas totales globales: \", df_games['global_sales'].sum())"
   ]
  },
  {
   "cell_type": "markdown",
   "metadata": {},
   "source": [
    "## Análisis de los datos:"
   ]
  },
  {
   "cell_type": "markdown",
   "metadata": {},
   "source": [
    "Por establecer un orden en el cuál se realizará el análisis, se decide dividirlo en tres partes:\n",
    "1) Año de lanzamiento.\n",
    "2) Plataformas.\n",
    "3) Género.\n",
    "\n",
    "El objetivo de este análisis será plantear las bases que nos permitan construir un modelo para predecir el comportamiento de ventas en 2017 (el año inmediatamente posterior al último año registrado en nuestra base de datos)."
   ]
  },
  {
   "cell_type": "markdown",
   "metadata": {},
   "source": [
    "Se trabajará gráficamente para agilizar el análisis:"
   ]
  },
  {
   "cell_type": "markdown",
   "metadata": {},
   "source": [
    "### Año de lanzamiento:"
   ]
  },
  {
   "cell_type": "code",
   "execution_count": 46,
   "metadata": {},
   "outputs": [
    {
     "data": {
      "image/png": "[encoded data removed]",
      "text/plain": [
       "<Figure size 1500x500 with 1 Axes>"
      ]
     },
     "metadata": {},
     "output_type": "display_data"
    }
   ],
   "source": [
    "# Veamos cuantos juegos salieron por año con un gráfico de barras:\n",
    "df_games['year_of_release'].value_counts().sort_index().plot(kind='bar', figsize=(15,5),\n",
    "                                                             title='Cantidad de juegos lanzados por año',\n",
    "                                                             xlabel='Año de lanzamiento', ylabel='Cantidad de juegos',\n",
    "                                                             rot=45)\n",
    "\n",
    "plt.show()"
   ]
  },
  {
   "cell_type": "code",
   "execution_count": 52,
   "metadata": {},
   "outputs": [
    {
     "data": {
      "image/png": "[encoded data removed]",
      "text/plain": [
       "<Figure size 640x480 with 1 Axes>"
      ]
     },
     "metadata": {},
     "output_type": "display_data"
    }
   ],
   "source": [
    "# Veamos ahora cuanto se vendió por año y por región mediante otro gráfico de barras apiladas:\n",
    "# Para crear el gráfico apilado, recorreremos las columnas de ventas por región y las sumaremos:\n",
    "años = df_games['year_of_release'].unique()\n",
    "\n",
    "for año in años:\n",
    "    ventas_na = df_games[df_games['year_of_release']==año]['na_sales'].sum()\n",
    "    ventas_eu = df_games[df_games['year_of_release']==año]['eu_sales'].sum()\n",
    "    ventas_jp = df_games[df_games['year_of_release']==año]['jp_sales'].sum()\n",
    "    ventras_otras = df_games[df_games['year_of_release']==año]['other_sales'].sum()\n",
    "\n",
    "    # Graficamos la barra para el año correspondiente:\n",
    "    plt.bar(año, ventas_na, label='NA', color='blue')\n",
    "    plt.bar(año, ventas_eu, label='EU', color='red',\n",
    "            bottom=ventas_na)\n",
    "    plt.bar(año, ventas_jp, label='JP', color='green',\n",
    "            bottom=ventas_na + ventas_eu)\n",
    "    plt.bar(año, ventras_otras, label='Otras', color='orange',\n",
    "            bottom=ventas_na + ventas_eu + ventas_jp)\n",
    "\n",
    "plt.title('Ventas por región y año')\n",
    "plt.xlabel('Año de lanzamiento')\n",
    "plt.ylabel('Ventas en millones de dólares')\n",
    "\n",
    "plt.legend(['NA', 'EU', 'JP', 'Otras'], title='Región', loc='upper left')\n",
    "plt.show()"
   ]
  },
  {
   "cell_type": "markdown",
   "metadata": {},
   "source": [
    "#### Observaciones:"
   ]
  },
  {
   "cell_type": "markdown",
   "metadata": {},
   "source": [
    "Podemos ver que a partir de 209, la tendencia es que han disminuido los lanzamientos de videojuegos nuevos y esto ha venido acompañado por una caída en las ventas globales.\n",
    "\n",
    "Por otro lado, a partir del año 2000, las ventas por región han sido así 1) NA, 2) EU, 3) Otras y 4) Japón.\n",
    "\n",
    "Para las siguientes etapas de nuestro análisis, solo se tomarán datos a partir de 2011 por relevancia y para poder dar continuidad a la tendencia a la baja existente."
   ]
  },
  {
   "cell_type": "markdown",
   "metadata": {},
   "source": [
    "### Plataformas:"
   ]
  },
  {
   "cell_type": "code",
   "execution_count": 53,
   "metadata": {},
   "outputs": [
    {
     "data": {
      "text/html": [
       "<div>\n",
       "<style scoped>\n",
       "    .dataframe tbody tr th:only-of-type {\n",
       "        vertical-align: middle;\n",
       "    }\n",
       "\n",
       "    .dataframe tbody tr th {\n",
       "        vertical-align: top;\n",
       "    }\n",
       "\n",
       "    .dataframe thead th {\n",
       "        text-align: right;\n",
       "    }\n",
       "</style>\n",
       "<table border=\"1\" class=\"dataframe\">\n",
       "  <thead>\n",
       "    <tr style=\"text-align: right;\">\n",
       "      <th></th>\n",
       "      <th>count</th>\n",
       "      <th>mean</th>\n",
       "      <th>std</th>\n",
       "      <th>min</th>\n",
       "      <th>25%</th>\n",
       "      <th>50%</th>\n",
       "      <th>75%</th>\n",
       "      <th>max</th>\n",
       "    </tr>\n",
       "  </thead>\n",
       "  <tbody>\n",
       "    <tr>\n",
       "      <th>year_of_release</th>\n",
       "      <td>4065.0</td>\n",
       "      <td>2013.078229</td>\n",
       "      <td>1.774791</td>\n",
       "      <td>2011.0</td>\n",
       "      <td>2011.0</td>\n",
       "      <td>2013.0</td>\n",
       "      <td>2015.0</td>\n",
       "      <td>2016.0</td>\n",
       "    </tr>\n",
       "    <tr>\n",
       "      <th>na_sales</th>\n",
       "      <td>4065.0</td>\n",
       "      <td>0.205255</td>\n",
       "      <td>0.567731</td>\n",
       "      <td>0.0</td>\n",
       "      <td>0.0</td>\n",
       "      <td>0.04</td>\n",
       "      <td>0.17</td>\n",
       "      <td>9.66</td>\n",
       "    </tr>\n",
       "    <tr>\n",
       "      <th>eu_sales</th>\n",
       "      <td>4065.0</td>\n",
       "      <td>0.165717</td>\n",
       "      <td>0.480545</td>\n",
       "      <td>0.0</td>\n",
       "      <td>0.0</td>\n",
       "      <td>0.03</td>\n",
       "      <td>0.13</td>\n",
       "      <td>9.09</td>\n",
       "    </tr>\n",
       "    <tr>\n",
       "      <th>jp_sales</th>\n",
       "      <td>4065.0</td>\n",
       "      <td>0.060681</td>\n",
       "      <td>0.219358</td>\n",
       "      <td>0.0</td>\n",
       "      <td>0.0</td>\n",
       "      <td>0.0</td>\n",
       "      <td>0.05</td>\n",
       "      <td>4.39</td>\n",
       "    </tr>\n",
       "    <tr>\n",
       "      <th>other_sales</th>\n",
       "      <td>4065.0</td>\n",
       "      <td>0.05168</td>\n",
       "      <td>0.154587</td>\n",
       "      <td>0.0</td>\n",
       "      <td>0.0</td>\n",
       "      <td>0.01</td>\n",
       "      <td>0.04</td>\n",
       "      <td>3.96</td>\n",
       "    </tr>\n",
       "    <tr>\n",
       "      <th>critic_score</th>\n",
       "      <td>1833.0</td>\n",
       "      <td>71.258592</td>\n",
       "      <td>13.058514</td>\n",
       "      <td>13.0</td>\n",
       "      <td>64.0</td>\n",
       "      <td>74.0</td>\n",
       "      <td>81.0</td>\n",
       "      <td>97.0</td>\n",
       "    </tr>\n",
       "    <tr>\n",
       "      <th>user_score</th>\n",
       "      <td>2054.0</td>\n",
       "      <td>66.363681</td>\n",
       "      <td>15.391424</td>\n",
       "      <td>2.0</td>\n",
       "      <td>58.0</td>\n",
       "      <td>70.0</td>\n",
       "      <td>78.0</td>\n",
       "      <td>93.0</td>\n",
       "    </tr>\n",
       "    <tr>\n",
       "      <th>global_sales</th>\n",
       "      <td>4065.0</td>\n",
       "      <td>0.483333</td>\n",
       "      <td>1.213717</td>\n",
       "      <td>0.01</td>\n",
       "      <td>0.04</td>\n",
       "      <td>0.13</td>\n",
       "      <td>0.4</td>\n",
       "      <td>21.05</td>\n",
       "    </tr>\n",
       "  </tbody>\n",
       "</table>\n",
       "</div>"
      ],
      "text/plain": [
       "                  count         mean        std     min     25%     50%  \\\n",
       "year_of_release  4065.0  2013.078229   1.774791  2011.0  2011.0  2013.0   \n",
       "na_sales         4065.0     0.205255   0.567731     0.0     0.0    0.04   \n",
       "eu_sales         4065.0     0.165717   0.480545     0.0     0.0    0.03   \n",
       "jp_sales         4065.0     0.060681   0.219358     0.0     0.0     0.0   \n",
       "other_sales      4065.0      0.05168   0.154587     0.0     0.0    0.01   \n",
       "critic_score     1833.0    71.258592  13.058514    13.0    64.0    74.0   \n",
       "user_score       2054.0    66.363681  15.391424     2.0    58.0    70.0   \n",
       "global_sales     4065.0     0.483333   1.213717    0.01    0.04    0.13   \n",
       "\n",
       "                    75%     max  \n",
       "year_of_release  2015.0  2016.0  \n",
       "na_sales           0.17    9.66  \n",
       "eu_sales           0.13    9.09  \n",
       "jp_sales           0.05    4.39  \n",
       "other_sales        0.04    3.96  \n",
       "critic_score       81.0    97.0  \n",
       "user_score         78.0    93.0  \n",
       "global_sales        0.4   21.05  "
      ]
     },
     "execution_count": 53,
     "metadata": {},
     "output_type": "execute_result"
    }
   ],
   "source": [
    "# De acuerdo a lo mencionado en el párrafo anterior, filtraremos el dataframe para quedarnos con los registros\n",
    "# de los últimos 6 años unicamente:\n",
    "df_games_filt = df_games[df_games['year_of_release'] >= 2011]\n",
    "\n",
    "# Validamos:\n",
    "df_games_filt.describe().T.round(2)"
   ]
  },
  {
   "cell_type": "code",
   "execution_count": 65,
   "metadata": {},
   "outputs": [
    {
     "data": {
      "image/png": "[encoded data removed]",
      "text/plain": [
       "<Figure size 640x480 with 1 Axes>"
      ]
     },
     "metadata": {},
     "output_type": "display_data"
    }
   ],
   "source": [
    "# Haremos un gráfico de barras apiladas para ver las ventas globales anuales por plataforma:\n",
    "años = df_games_filt['year_of_release'].unique()\n",
    "plataformas = df_games_filt['platform'].unique()\n",
    "\n",
    "for año in años:\n",
    "    y_ini = 0\n",
    "    for plataforma in plataformas:\n",
    "        ventas_plat = df_games_filt[(df_games_filt['year_of_release']==año) & (df_games_filt['platform']==plataforma)]['global_sales'].sum()\n",
    "        # Graficamos la barra para la plataforma en cada año:\n",
    "        plt.bar(año, ventas_plat, label=plataforma, bottom=y_ini)\n",
    "        # Establecemos el nuevo inicio para la siguiente barra:\n",
    "        y_ini += ventas_plat\n",
    "\n",
    "plt.title('Ventas por plataforma y año')\n",
    "plt.xlabel('Año de lanzamiento')\n",
    "plt.ylabel('Ventas en millones de dólares')\n",
    "\n",
    "plt.legend(plataformas, title='Plataformas', loc='best',fontsize='small')\n",
    "plt.show()"
   ]
  },
  {
   "cell_type": "markdown",
   "metadata": {},
   "source": [
    "El gráfico no ha quedado tan claro como se esperaba, por lo mismo se recurrirá una presentación de la información numérica."
   ]
  },
  {
   "cell_type": "code",
   "execution_count": 66,
   "metadata": {},
   "outputs": [
    {
     "data": {
      "text/html": [
       "<div>\n",
       "<style scoped>\n",
       "    .dataframe tbody tr th:only-of-type {\n",
       "        vertical-align: middle;\n",
       "    }\n",
       "\n",
       "    .dataframe tbody tr th {\n",
       "        vertical-align: top;\n",
       "    }\n",
       "\n",
       "    .dataframe thead th {\n",
       "        text-align: right;\n",
       "    }\n",
       "</style>\n",
       "<table border=\"1\" class=\"dataframe\">\n",
       "  <thead>\n",
       "    <tr style=\"text-align: right;\">\n",
       "      <th>year_of_release</th>\n",
       "      <th>2011</th>\n",
       "      <th>2012</th>\n",
       "      <th>2013</th>\n",
       "      <th>2014</th>\n",
       "      <th>2015</th>\n",
       "      <th>2016</th>\n",
       "    </tr>\n",
       "    <tr>\n",
       "      <th>platform</th>\n",
       "      <th></th>\n",
       "      <th></th>\n",
       "      <th></th>\n",
       "      <th></th>\n",
       "      <th></th>\n",
       "      <th></th>\n",
       "    </tr>\n",
       "  </thead>\n",
       "  <tbody>\n",
       "    <tr>\n",
       "      <th>3DS</th>\n",
       "      <td>63.20</td>\n",
       "      <td>51.76</td>\n",
       "      <td>57.04</td>\n",
       "      <td>43.76</td>\n",
       "      <td>27.78</td>\n",
       "      <td>15.14</td>\n",
       "    </tr>\n",
       "    <tr>\n",
       "      <th>DS</th>\n",
       "      <td>26.33</td>\n",
       "      <td>11.67</td>\n",
       "      <td>1.54</td>\n",
       "      <td>NaN</td>\n",
       "      <td>NaN</td>\n",
       "      <td>NaN</td>\n",
       "    </tr>\n",
       "    <tr>\n",
       "      <th>PC</th>\n",
       "      <td>35.16</td>\n",
       "      <td>23.45</td>\n",
       "      <td>13.01</td>\n",
       "      <td>13.28</td>\n",
       "      <td>8.52</td>\n",
       "      <td>5.25</td>\n",
       "    </tr>\n",
       "    <tr>\n",
       "      <th>PS2</th>\n",
       "      <td>0.45</td>\n",
       "      <td>NaN</td>\n",
       "      <td>NaN</td>\n",
       "      <td>NaN</td>\n",
       "      <td>NaN</td>\n",
       "      <td>NaN</td>\n",
       "    </tr>\n",
       "    <tr>\n",
       "      <th>PS3</th>\n",
       "      <td>159.26</td>\n",
       "      <td>108.28</td>\n",
       "      <td>113.25</td>\n",
       "      <td>47.76</td>\n",
       "      <td>16.82</td>\n",
       "      <td>3.60</td>\n",
       "    </tr>\n",
       "    <tr>\n",
       "      <th>PS4</th>\n",
       "      <td>NaN</td>\n",
       "      <td>NaN</td>\n",
       "      <td>25.99</td>\n",
       "      <td>100.00</td>\n",
       "      <td>118.90</td>\n",
       "      <td>69.25</td>\n",
       "    </tr>\n",
       "    <tr>\n",
       "      <th>PSP</th>\n",
       "      <td>17.82</td>\n",
       "      <td>7.95</td>\n",
       "      <td>3.38</td>\n",
       "      <td>0.24</td>\n",
       "      <td>0.12</td>\n",
       "      <td>NaN</td>\n",
       "    </tr>\n",
       "    <tr>\n",
       "      <th>PSV</th>\n",
       "      <td>4.63</td>\n",
       "      <td>16.19</td>\n",
       "      <td>10.59</td>\n",
       "      <td>12.16</td>\n",
       "      <td>6.25</td>\n",
       "      <td>4.25</td>\n",
       "    </tr>\n",
       "    <tr>\n",
       "      <th>Wii</th>\n",
       "      <td>59.79</td>\n",
       "      <td>22.94</td>\n",
       "      <td>8.59</td>\n",
       "      <td>3.75</td>\n",
       "      <td>1.14</td>\n",
       "      <td>0.18</td>\n",
       "    </tr>\n",
       "    <tr>\n",
       "      <th>WiiU</th>\n",
       "      <td>NaN</td>\n",
       "      <td>17.56</td>\n",
       "      <td>21.65</td>\n",
       "      <td>22.03</td>\n",
       "      <td>16.35</td>\n",
       "      <td>4.60</td>\n",
       "    </tr>\n",
       "    <tr>\n",
       "      <th>X360</th>\n",
       "      <td>145.30</td>\n",
       "      <td>100.72</td>\n",
       "      <td>88.58</td>\n",
       "      <td>34.74</td>\n",
       "      <td>11.96</td>\n",
       "      <td>1.52</td>\n",
       "    </tr>\n",
       "    <tr>\n",
       "      <th>XOne</th>\n",
       "      <td>NaN</td>\n",
       "      <td>NaN</td>\n",
       "      <td>18.96</td>\n",
       "      <td>54.07</td>\n",
       "      <td>60.14</td>\n",
       "      <td>26.15</td>\n",
       "    </tr>\n",
       "  </tbody>\n",
       "</table>\n",
       "</div>"
      ],
      "text/plain": [
       "year_of_release    2011    2012    2013    2014    2015   2016\n",
       "platform                                                      \n",
       "3DS               63.20   51.76   57.04   43.76   27.78  15.14\n",
       "DS                26.33   11.67    1.54     NaN     NaN    NaN\n",
       "PC                35.16   23.45   13.01   13.28    8.52   5.25\n",
       "PS2                0.45     NaN     NaN     NaN     NaN    NaN\n",
       "PS3              159.26  108.28  113.25   47.76   16.82   3.60\n",
       "PS4                 NaN     NaN   25.99  100.00  118.90  69.25\n",
       "PSP               17.82    7.95    3.38    0.24    0.12    NaN\n",
       "PSV                4.63   16.19   10.59   12.16    6.25   4.25\n",
       "Wii               59.79   22.94    8.59    3.75    1.14   0.18\n",
       "WiiU                NaN   17.56   21.65   22.03   16.35   4.60\n",
       "X360             145.30  100.72   88.58   34.74   11.96   1.52\n",
       "XOne                NaN     NaN   18.96   54.07   60.14  26.15"
      ]
     },
     "execution_count": 66,
     "metadata": {},
     "output_type": "execute_result"
    }
   ],
   "source": [
    "# Con la siguiente tabla agrupada, presentamos las ventas globales por plataforma y año:\n",
    "df_games_filt.groupby(['platform','year_of_release'])['global_sales'].sum().unstack().round(2)"
   ]
  },
  {
   "cell_type": "markdown",
   "metadata": {},
   "source": [
    "Podemos interpretar los valores ausentes de la tabla anterior como que no hubo ventas para dicha plataforma, sin embargo, también es interesante que estos \"NaN's\" no están repartidos aleatoriamente, sino que parecen marcar el inicio y el fin de la vida de las plataformas."
   ]
  },
  {
   "cell_type": "markdown",
   "metadata": {},
   "source": [
    "Buscaremos las plataformas lanzadas solo desde el año 2000 por relevancia."
   ]
  },
  {
   "cell_type": "code",
   "execution_count": 73,
   "metadata": {},
   "outputs": [
    {
     "name": "stdout",
     "output_type": "stream",
     "text": [
      "La vida promedio de las plataformas ha sido de 16.67 años.\n",
      "La vida promedio de las plataformas lanzadas a partir del 2000 ha sido de 11.00 años.\n"
     ]
    }
   ],
   "source": [
    "# En nuestro DataFrame original, obtendremos el primer año en que una plataforma tuvo ventas y lo\n",
    "# almacenaremos en un diccionario:\n",
    "primer_año = {}\n",
    "\n",
    "for plataforma in plataformas:\n",
    "    año = df_games[df_games['platform']==plataforma]['year_of_release'].min()\n",
    "    primer_año[plataforma] = año\n",
    "\n",
    "# Aremos algo similar para obtener el último año en que una plataforma tuvo ventas:\n",
    "ultimo_año = {}\n",
    "\n",
    "for plataforma in plataformas:\n",
    "    año = df_games[df_games['platform']==plataforma]['year_of_release'].max()\n",
    "    ultimo_año[plataforma] = año\n",
    "\n",
    "# Ciclando en ambos diccionarios, obtendremos la vida promedio de las plataformas:\n",
    "vida_total = 0\n",
    "vida_total_2 = 0\n",
    "contador = 0\n",
    "contador_2 = 0\n",
    "\n",
    "for plataforma in plataformas:\n",
    "    # No vamos a considerar las plataformas que aún tienen ventas en 2016 puesto que no sabemos si su ciclo\n",
    "    # de vida ha terminado:\n",
    "    if ultimo_año[plataforma] == 2016:\n",
    "        continue\n",
    "    else:\n",
    "        if primer_año[plataforma] >= 2000:\n",
    "            # En caso de que la plataforma fuera lanzada a partir del 2000, sumamos para las variables\n",
    "            # \"global\" y \"acotada\":\n",
    "            vida_total_2 += (ultimo_año[plataforma] - primer_año[plataforma])\n",
    "            contador_2 += 1\n",
    "            vida_total += (ultimo_año[plataforma] - primer_año[plataforma])\n",
    "            contador += 1\n",
    "        else:\n",
    "            vida_total += (ultimo_año[plataforma] - primer_año[plataforma])\n",
    "            contador += 1\n",
    "\n",
    "vida_promedio = vida_total / contador\n",
    "vida_promedio_2 = vida_total_2 / contador_2\n",
    "\n",
    "print(f\"La vida promedio de las plataformas ha sido de {vida_promedio:.2f} años.\")\n",
    "print(f\"La vida promedio de las plataformas lanzadas a partir del 2000 ha sido de {vida_promedio_2:.2f} años.\")"
   ]
  },
  {
   "cell_type": "markdown",
   "metadata": {},
   "source": [
    "Contaremos cuantos años lleva cada plataforma que aún registró ventas en 2016:"
   ]
  },
  {
   "cell_type": "code",
   "execution_count": 75,
   "metadata": {},
   "outputs": [
    {
     "name": "stdout",
     "output_type": "stream",
     "text": [
      "La plataforma PS4 lleva 3 años en el mercado.\n",
      "La plataforma 3DS lleva 16 años en el mercado.\n",
      "La plataforma XOne lleva 3 años en el mercado.\n",
      "La plataforma WiiU lleva 4 años en el mercado.\n",
      "La plataforma PS3 lleva 11 años en el mercado.\n",
      "La plataforma PC lleva 31 años en el mercado.\n",
      "La plataforma X360 lleva 11 años en el mercado.\n",
      "La plataforma PSV lleva 5 años en el mercado.\n",
      "La plataforma Wii lleva 10 años en el mercado.\n",
      "La plataforma 3DS ha superado la vida promedio de las plataformas en el mercado.\n",
      "La plataforma PS3 ha superado la vida promedio de las plataformas en el mercado.\n",
      "La plataforma PC ha superado la vida promedio de las plataformas en el mercado.\n",
      "La plataforma X360 ha superado la vida promedio de las plataformas en el mercado.\n"
     ]
    }
   ],
   "source": [
    "# Contamos los años que lleva en el mercado cada plataforma que tuvo ventas en 2016:\n",
    "plataformas_2016 = df_games_filt[df_games_filt['year_of_release']==2016]['platform'].unique()\n",
    "\n",
    "plataformas_obs = {}\n",
    "\n",
    "for plataforma in plataformas_2016:\n",
    "    años_mercado = 2016 - primer_año[plataforma]\n",
    "    if años_mercado >= 11:\n",
    "        plataformas_obs[plataforma] = años_mercado\n",
    "    print(f\"La plataforma {plataforma} lleva {años_mercado:.0f} años en el mercado.\")\n",
    "\n",
    "for plataforma in plataformas_obs:\n",
    "    print(f\"La plataforma {plataforma} ha superado la vida promedio de las plataformas en el mercado.\")"
   ]
  },
  {
   "cell_type": "markdown",
   "metadata": {},
   "source": [
    "Cerrando aún más el espectro de nuestro estudio para los siguientes pasos, solo se trabajará con las plataformas: PS4, XOne, WiiU, PC (puesto que no es una plataforma en el contexto normal de las demás), PSV y Wii."
   ]
  },
  {
   "cell_type": "code",
   "execution_count": 83,
   "metadata": {},
   "outputs": [
    {
     "name": "stdout",
     "output_type": "stream",
     "text": [
      "['PS4', 'XOne', 'WiiU', 'PC', 'PSV', 'Wii']\n"
     ]
    }
   ],
   "source": [
    "# Acotaremos nuestro DataFrame filtrado a las plataformas mencionadas:\n",
    "plataformas_trabajo = []\n",
    "\n",
    "for plataforma in plataformas_2016:\n",
    "    if plataforma not in plataformas_obs.keys() or plataforma == 'PC':\n",
    "        plataformas_trabajo.append(plataforma)\n",
    "\n",
    "print(plataformas_trabajo)"
   ]
  },
  {
   "cell_type": "code",
   "execution_count": 85,
   "metadata": {},
   "outputs": [
    {
     "data": {
      "image/png": "[encoded data removed]",
      "text/plain": [
       "<Figure size 640x480 with 1 Axes>"
      ]
     },
     "metadata": {},
     "output_type": "display_data"
    }
   ],
   "source": [
    "# Veamos como fueron las ventas de estas plataformas en los últimos años:\n",
    "# Primero, filtramos nuevamente nuestro dataframe:\n",
    "df_games_filt = df_games_filt[df_games_filt['platform'].isin(plataformas_trabajo)]\n",
    "\n",
    "# Graficamos las ventas globales por año y plataforma:\n",
    "años = df_games_filt['year_of_release'].unique()\n",
    "\n",
    "for año in años:\n",
    "    y_ini = 0\n",
    "    for plataforma in plataformas_trabajo:\n",
    "        ventas_plat = df_games_filt[(df_games_filt['year_of_release']==año) & (df_games_filt['platform']==plataforma)]['global_sales'].sum()\n",
    "        # Graficamos la barra para la plataforma en cada año:\n",
    "        plt.bar(año, ventas_plat, label=plataforma, bottom=y_ini)\n",
    "        # Establecemos el nuevo inicio para la siguiente barra:\n",
    "        y_ini += ventas_plat\n",
    "\n",
    "plt.title('Ventas por plataforma y año')\n",
    "plt.xlabel('Año de lanzamiento')\n",
    "plt.ylabel('Ventas en millones de dólares')\n",
    "\n",
    "plt.legend(plataformas_trabajo, title='Plataformas', loc='best',fontsize='small')\n",
    "plt.show()"
   ]
  },
  {
   "cell_type": "code",
   "execution_count": 86,
   "metadata": {},
   "outputs": [
    {
     "data": {
      "text/html": [
       "<div>\n",
       "<style scoped>\n",
       "    .dataframe tbody tr th:only-of-type {\n",
       "        vertical-align: middle;\n",
       "    }\n",
       "\n",
       "    .dataframe tbody tr th {\n",
       "        vertical-align: top;\n",
       "    }\n",
       "\n",
       "    .dataframe thead th {\n",
       "        text-align: right;\n",
       "    }\n",
       "</style>\n",
       "<table border=\"1\" class=\"dataframe\">\n",
       "  <thead>\n",
       "    <tr style=\"text-align: right;\">\n",
       "      <th>year_of_release</th>\n",
       "      <th>2011</th>\n",
       "      <th>2012</th>\n",
       "      <th>2013</th>\n",
       "      <th>2014</th>\n",
       "      <th>2015</th>\n",
       "      <th>2016</th>\n",
       "    </tr>\n",
       "    <tr>\n",
       "      <th>platform</th>\n",
       "      <th></th>\n",
       "      <th></th>\n",
       "      <th></th>\n",
       "      <th></th>\n",
       "      <th></th>\n",
       "      <th></th>\n",
       "    </tr>\n",
       "  </thead>\n",
       "  <tbody>\n",
       "    <tr>\n",
       "      <th>PC</th>\n",
       "      <td>35.16</td>\n",
       "      <td>23.45</td>\n",
       "      <td>13.01</td>\n",
       "      <td>13.28</td>\n",
       "      <td>8.52</td>\n",
       "      <td>5.25</td>\n",
       "    </tr>\n",
       "    <tr>\n",
       "      <th>PS4</th>\n",
       "      <td>NaN</td>\n",
       "      <td>NaN</td>\n",
       "      <td>25.99</td>\n",
       "      <td>100.00</td>\n",
       "      <td>118.90</td>\n",
       "      <td>69.25</td>\n",
       "    </tr>\n",
       "    <tr>\n",
       "      <th>PSV</th>\n",
       "      <td>4.63</td>\n",
       "      <td>16.19</td>\n",
       "      <td>10.59</td>\n",
       "      <td>12.16</td>\n",
       "      <td>6.25</td>\n",
       "      <td>4.25</td>\n",
       "    </tr>\n",
       "    <tr>\n",
       "      <th>Wii</th>\n",
       "      <td>59.79</td>\n",
       "      <td>22.94</td>\n",
       "      <td>8.59</td>\n",
       "      <td>3.75</td>\n",
       "      <td>1.14</td>\n",
       "      <td>0.18</td>\n",
       "    </tr>\n",
       "    <tr>\n",
       "      <th>WiiU</th>\n",
       "      <td>NaN</td>\n",
       "      <td>17.56</td>\n",
       "      <td>21.65</td>\n",
       "      <td>22.03</td>\n",
       "      <td>16.35</td>\n",
       "      <td>4.60</td>\n",
       "    </tr>\n",
       "    <tr>\n",
       "      <th>XOne</th>\n",
       "      <td>NaN</td>\n",
       "      <td>NaN</td>\n",
       "      <td>18.96</td>\n",
       "      <td>54.07</td>\n",
       "      <td>60.14</td>\n",
       "      <td>26.15</td>\n",
       "    </tr>\n",
       "  </tbody>\n",
       "</table>\n",
       "</div>"
      ],
      "text/plain": [
       "year_of_release   2011   2012   2013    2014    2015   2016\n",
       "platform                                                   \n",
       "PC               35.16  23.45  13.01   13.28    8.52   5.25\n",
       "PS4                NaN    NaN  25.99  100.00  118.90  69.25\n",
       "PSV               4.63  16.19  10.59   12.16    6.25   4.25\n",
       "Wii              59.79  22.94   8.59    3.75    1.14   0.18\n",
       "WiiU               NaN  17.56  21.65   22.03   16.35   4.60\n",
       "XOne               NaN    NaN  18.96   54.07   60.14  26.15"
      ]
     },
     "execution_count": 86,
     "metadata": {},
     "output_type": "execute_result"
    }
   ],
   "source": [
    "# También numéricamente:\n",
    "df_games_filt.groupby(['platform','year_of_release'])['global_sales'].sum().unstack().round(2)"
   ]
  },
  {
   "cell_type": "markdown",
   "metadata": {},
   "source": [
    "Buscaremos datos desde 2013 (que es cuando salieron a la venta PS4 y XOne, las consolas con ventas más altas a 2016) y compararemos como le ha ido a los distintos juegos en cada plataforma. Para esto, haremos un nuevo dataframe en el que las filas serán los juegos y las columnas las plataformas."
   ]
  },
  {
   "cell_type": "code",
   "execution_count": 87,
   "metadata": {},
   "outputs": [
    {
     "data": {
      "text/html": [
       "<div>\n",
       "<style scoped>\n",
       "    .dataframe tbody tr th:only-of-type {\n",
       "        vertical-align: middle;\n",
       "    }\n",
       "\n",
       "    .dataframe tbody tr th {\n",
       "        vertical-align: top;\n",
       "    }\n",
       "\n",
       "    .dataframe thead th {\n",
       "        text-align: right;\n",
       "    }\n",
       "</style>\n",
       "<table border=\"1\" class=\"dataframe\">\n",
       "  <thead>\n",
       "    <tr style=\"text-align: right;\">\n",
       "      <th></th>\n",
       "      <th>PS4</th>\n",
       "      <th>XOne</th>\n",
       "      <th>WiiU</th>\n",
       "      <th>PC</th>\n",
       "      <th>PSV</th>\n",
       "      <th>Wii</th>\n",
       "    </tr>\n",
       "    <tr>\n",
       "      <th>name</th>\n",
       "      <th></th>\n",
       "      <th></th>\n",
       "      <th></th>\n",
       "      <th></th>\n",
       "      <th></th>\n",
       "      <th></th>\n",
       "    </tr>\n",
       "  </thead>\n",
       "  <tbody>\n",
       "    <tr>\n",
       "      <th>rugby 15</th>\n",
       "      <td>0.12</td>\n",
       "      <td>0.09</td>\n",
       "      <td>NaN</td>\n",
       "      <td>NaN</td>\n",
       "      <td>0.04</td>\n",
       "      <td>NaN</td>\n",
       "    </tr>\n",
       "    <tr>\n",
       "      <th>goat simulator</th>\n",
       "      <td>NaN</td>\n",
       "      <td>0.01</td>\n",
       "      <td>NaN</td>\n",
       "      <td>NaN</td>\n",
       "      <td>NaN</td>\n",
       "      <td>NaN</td>\n",
       "    </tr>\n",
       "    <tr>\n",
       "      <th>sid meier's civilization vi</th>\n",
       "      <td>NaN</td>\n",
       "      <td>NaN</td>\n",
       "      <td>NaN</td>\n",
       "      <td>0.24</td>\n",
       "      <td>NaN</td>\n",
       "      <td>NaN</td>\n",
       "    </tr>\n",
       "    <tr>\n",
       "      <th>lego jurassic world</th>\n",
       "      <td>0.9</td>\n",
       "      <td>0.66</td>\n",
       "      <td>0.52</td>\n",
       "      <td>0.04</td>\n",
       "      <td>0.23</td>\n",
       "      <td>NaN</td>\n",
       "    </tr>\n",
       "    <tr>\n",
       "      <th>otoko yukaku</th>\n",
       "      <td>NaN</td>\n",
       "      <td>NaN</td>\n",
       "      <td>NaN</td>\n",
       "      <td>NaN</td>\n",
       "      <td>0.02</td>\n",
       "      <td>NaN</td>\n",
       "    </tr>\n",
       "  </tbody>\n",
       "</table>\n",
       "</div>"
      ],
      "text/plain": [
       "                              PS4  XOne  WiiU    PC   PSV  Wii\n",
       "name                                                          \n",
       "rugby 15                     0.12  0.09   NaN   NaN  0.04  NaN\n",
       "goat simulator                NaN  0.01   NaN   NaN   NaN  NaN\n",
       "sid meier's civilization vi   NaN   NaN   NaN  0.24   NaN  NaN\n",
       "lego jurassic world           0.9  0.66  0.52  0.04  0.23  NaN\n",
       "otoko yukaku                  NaN   NaN   NaN   NaN  0.02  NaN"
      ]
     },
     "execution_count": 87,
     "metadata": {},
     "output_type": "execute_result"
    }
   ],
   "source": [
    "# Creamos el nuevo dataframe con juegos lanzados a partir de 2013:\n",
    "df_juegos_2013 = df_games_filt[df_games_filt['year_of_release'] >= 2013]\n",
    "\n",
    "df_games_filt_2 = pd.DataFrame(columns=plataformas_trabajo, index=df_juegos_2013['name'])\n",
    "\n",
    "# Llenamos el dataframe:\n",
    "for i, row in df_juegos_2013.iterrows():\n",
    "    df_games_filt_2.loc[row['name'], row['platform']] = row['global_sales']\n",
    "\n",
    "# Presentamos el nuevo dataframe:\n",
    "df_games_filt_2.sample(5)"
   ]
  },
  {
   "cell_type": "code",
   "execution_count": 88,
   "metadata": {},
   "outputs": [
    {
     "data": {
      "text/html": [
       "<div>\n",
       "<style scoped>\n",
       "    .dataframe tbody tr th:only-of-type {\n",
       "        vertical-align: middle;\n",
       "    }\n",
       "\n",
       "    .dataframe tbody tr th {\n",
       "        vertical-align: top;\n",
       "    }\n",
       "\n",
       "    .dataframe thead th {\n",
       "        text-align: right;\n",
       "    }\n",
       "</style>\n",
       "<table border=\"1\" class=\"dataframe\">\n",
       "  <thead>\n",
       "    <tr style=\"text-align: right;\">\n",
       "      <th></th>\n",
       "      <th>PS4</th>\n",
       "      <th>XOne</th>\n",
       "      <th>WiiU</th>\n",
       "      <th>PC</th>\n",
       "      <th>PSV</th>\n",
       "      <th>Wii</th>\n",
       "    </tr>\n",
       "    <tr>\n",
       "      <th>name</th>\n",
       "      <th></th>\n",
       "      <th></th>\n",
       "      <th></th>\n",
       "      <th></th>\n",
       "      <th></th>\n",
       "      <th></th>\n",
       "    </tr>\n",
       "  </thead>\n",
       "  <tbody>\n",
       "    <tr>\n",
       "      <th>dying light</th>\n",
       "      <td>2.09</td>\n",
       "      <td>1.29</td>\n",
       "      <td>0.0</td>\n",
       "      <td>0.20</td>\n",
       "      <td>0.00</td>\n",
       "      <td>0.0</td>\n",
       "    </tr>\n",
       "    <tr>\n",
       "      <th>sword art online: lost song</th>\n",
       "      <td>0.25</td>\n",
       "      <td>0.00</td>\n",
       "      <td>0.0</td>\n",
       "      <td>0.00</td>\n",
       "      <td>0.36</td>\n",
       "      <td>0.0</td>\n",
       "    </tr>\n",
       "    <tr>\n",
       "      <th>criminal girls 2</th>\n",
       "      <td>0.00</td>\n",
       "      <td>0.00</td>\n",
       "      <td>0.0</td>\n",
       "      <td>0.00</td>\n",
       "      <td>0.06</td>\n",
       "      <td>0.0</td>\n",
       "    </tr>\n",
       "    <tr>\n",
       "      <th>call of duty: advanced warfare</th>\n",
       "      <td>7.66</td>\n",
       "      <td>5.26</td>\n",
       "      <td>0.0</td>\n",
       "      <td>0.41</td>\n",
       "      <td>0.00</td>\n",
       "      <td>0.0</td>\n",
       "    </tr>\n",
       "    <tr>\n",
       "      <th>amagami</th>\n",
       "      <td>0.00</td>\n",
       "      <td>0.00</td>\n",
       "      <td>0.0</td>\n",
       "      <td>0.00</td>\n",
       "      <td>0.04</td>\n",
       "      <td>0.0</td>\n",
       "    </tr>\n",
       "  </tbody>\n",
       "</table>\n",
       "</div>"
      ],
      "text/plain": [
       "                                 PS4  XOne  WiiU    PC   PSV  Wii\n",
       "name                                                             \n",
       "dying light                     2.09  1.29   0.0  0.20  0.00  0.0\n",
       "sword art online: lost song     0.25  0.00   0.0  0.00  0.36  0.0\n",
       "criminal girls 2                0.00  0.00   0.0  0.00  0.06  0.0\n",
       "call of duty: advanced warfare  7.66  5.26   0.0  0.41  0.00  0.0\n",
       "amagami                         0.00  0.00   0.0  0.00  0.04  0.0"
      ]
     },
     "execution_count": 88,
     "metadata": {},
     "output_type": "execute_result"
    }
   ],
   "source": [
    "# Reemplazamos los NaN por 0:\n",
    "df_games_filt_2 = df_games_filt_2.fillna(0)\n",
    "\n",
    "# Validamos:\n",
    "df_games_filt_2.sample(5)"
   ]
  },
  {
   "cell_type": "code",
   "execution_count": 89,
   "metadata": {},
   "outputs": [
    {
     "name": "stdout",
     "output_type": "stream",
     "text": [
      "La plataforma PS4 ha sido la más exitosa en ventas en 615 títulos.\n",
      "109 son títulos exclusivos de la plataforma.\n",
      "La plataforma WiiU ha sido la más exitosa en ventas en 27 títulos.\n",
      "64 son títulos exclusivos de la plataforma.\n",
      "La plataforma XOne ha sido la más exitosa en ventas en 18 títulos.\n",
      "26 son títulos exclusivos de la plataforma.\n",
      "La plataforma Wii ha sido la más exitosa en ventas en 42 títulos.\n",
      "3 son títulos exclusivos de la plataforma.\n",
      "La plataforma PC ha sido la más exitosa en ventas en 18 títulos.\n",
      "79 son títulos exclusivos de la plataforma.\n",
      "La plataforma PSV ha sido la más exitosa en ventas en 54 títulos.\n",
      "273 son títulos exclusivos de la plataforma.\n"
     ]
    }
   ],
   "source": [
    "# Contaremos cuantas veces cada plataforma fue la más exitosa en ventas por título y cuántos títulos son\n",
    "# exclusivos de cada plataforma:\n",
    "exclusivos = {}\n",
    "mas_exitosa = {}\n",
    "\n",
    "for i, row in df_games_filt_2.iterrows():\n",
    "    # Obtenemos el valor máximo de la fila y la plataforma correspondiente:\n",
    "    maximo = row.max()\n",
    "    plataforma = row.idxmax()\n",
    "    # Si no hemos creado la llave para la plataforma, la creamos y asignamos:\n",
    "    if plataforma not in mas_exitosa.keys():\n",
    "        mas_exitosa[plataforma] = 1\n",
    "    # Si ya existe la llave, sumamos 1:\n",
    "    else:\n",
    "        mas_exitosa[plataforma] += 1\n",
    "    # Calculamos la venta total de el título:\n",
    "    venta_total = row.sum()\n",
    "    # Si la venta total es igual a la venta máxima, el título es exclusivo de la plataforma\n",
    "    if venta_total == row[plataforma]:\n",
    "        if plataforma not in exclusivos.keys():\n",
    "            exclusivos[plataforma] = 1\n",
    "        else:\n",
    "            exclusivos[plataforma] += 1\n",
    "\n",
    "# Para fines de comparación, quitaremos los títulos exclusivos de los \"más exitosos\" para cada plataforma:\n",
    "for plataforma in exclusivos.keys():\n",
    "    mas_exitosa[plataforma] -= exclusivos[plataforma]\n",
    "\n",
    "# Imprimimos:\n",
    "for plataforma in mas_exitosa:\n",
    "    print(f\"La plataforma {plataforma} ha sido la más exitosa en ventas en {mas_exitosa[plataforma]} títulos.\")\n",
    "    print(f\"{exclusivos[plataforma]} son títulos exclusivos de la plataforma.\")"
   ]
  },
  {
   "cell_type": "markdown",
   "metadata": {},
   "source": [
    "Veamos la información anterior con diagramas de cajas y bigotes."
   ]
  },
  {
   "cell_type": "code",
   "execution_count": 93,
   "metadata": {},
   "outputs": [
    {
     "data": {
      "image/png": "[encoded data removed]",
      "text/plain": [
       "<Figure size 640x480 with 1 Axes>"
      ]
     },
     "metadata": {},
     "output_type": "display_data"
    },
    {
     "data": {
      "image/png": "[encoded data removed]",
      "text/plain": [
       "<Figure size 640x480 with 1 Axes>"
      ]
     },
     "metadata": {},
     "output_type": "display_data"
    },
    {
     "data": {
      "image/png": "[encoded data removed]",
      "text/plain": [
       "<Figure size 640x480 with 1 Axes>"
      ]
     },
     "metadata": {},
     "output_type": "display_data"
    },
    {
     "data": {
      "image/png": "[encoded data removed]",
      "text/plain": [
       "<Figure size 640x480 with 1 Axes>"
      ]
     },
     "metadata": {},
     "output_type": "display_data"
    },
    {
     "data": {
      "image/png": "[encoded data removed]",
      "text/plain": [
       "<Figure size 640x480 with 1 Axes>"
      ]
     },
     "metadata": {},
     "output_type": "display_data"
    },
    {
     "data": {
      "image/png": "[encoded data removed]",
      "text/plain": [
       "<Figure size 640x480 with 1 Axes>"
      ]
     },
     "metadata": {},
     "output_type": "display_data"
    }
   ],
   "source": [
    "# Creamos \"box plots\" para cada plataforma:\n",
    "for plataforma in plataformas_trabajo:\n",
    "    plt.boxplot(df_games_filt_2[plataforma])\n",
    "    plt.title(f'Ventas globales por título en {plataforma}')\n",
    "    plt.xlabel(plataforma)\n",
    "    plt.ylabel('Ventas en millones de dólares')\n",
    "    plt.show()"
   ]
  },
  {
   "cell_type": "markdown",
   "metadata": {},
   "source": [
    "Al analizar los gráficos anteriores, es evidente que cada plataforma ha tenido algunos juegos \"nicho\" que son tremendamente populares respecto al resto de títulos que se vendieron para dicha plataforma, de ahí que el promedio de ventas y más de la mitad de los títulos vendidos, se visualizan muy por debajo de todos los \"outliers\" que existen."
   ]
  },
  {
   "cell_type": "markdown",
   "metadata": {},
   "source": [
    "Veamos ahora como se comparan las reseñas para la PS4 (plataforma con mejores ventas) y las de la PSV (la que peores ventas ha tenido) y que correlación juegan estas contra las ventas por juegos."
   ]
  },
  {
   "cell_type": "code",
   "execution_count": null,
   "metadata": {},
   "outputs": [
    {
     "name": "stdout",
     "output_type": "stream",
     "text": [
      "Para la consola PS4, se tienen los siguientes datos:\n",
      "              critic_score  user_score  global_sales\n",
      "critic_score      1.000000    0.557654      0.405895\n",
      "user_score        0.557654    1.000000     -0.033625\n",
      "global_sales      0.405895   -0.033625      1.000000\n",
      "La correlación entre las reseñas de la crítica y los usuarios es de: 0.56\n",
      "La correlación entre las reseñas de la crítica y las ventas globales es de: 0.56\n",
      "La correlación entre las reseñas de los usuarios y las ventas globales es de: 0.56\n"
     ]
    }
   ],
   "source": [
    "# Obtenemos un dataframe para las ventas de PS4 y sus reseñas:\n",
    "df_ps4 = df_games_filt[(df_games_filt['platform']=='PS4') & (df_games_filt['critic_score'].notnull()) & (df_games_filt['user_score'].notnull())]\n",
    "\n",
    "print(\"Para la consola PS4, se tienen los siguientes datos:\")\n",
    "\n",
    "# Veamos si existe una correlación entre las reseñas de la crítica y los usuarios:\t\n",
    "corr_score_ps4 = df_ps4[['critic_score','user_score','global_sales']].corr()\n",
    "print(f\"La correlación entre las reseñas de la crítica y los usuarios es de: {corr_score_ps4.iloc[0,1]:.2f}\")\n",
    "# Obtenemos la correlación entre las reseñas de la crítica y las ventas globales:\n",
    "print(f\"La correlación entre las reseñas de la crítica y las ventas globales es de: {corr_score_ps4.iloc[0,2]:.2f}\")\n",
    "# Obtenemos la correlación entre las reseñas de los usuarios y las ventas globales:\n",
    "print(f\"La correlación entre las reseñas de los usuarios y las ventas globales es de: {corr_score_ps4.iloc[1,2]:.2f}\")"
   ]
  },
  {
   "cell_type": "markdown",
   "metadata": {},
   "source": [
    "Ningún valor de correlación es suficientemente fuerte para ser relevante."
   ]
  },
  {
   "cell_type": "code",
   "execution_count": 103,
   "metadata": {},
   "outputs": [
    {
     "name": "stdout",
     "output_type": "stream",
     "text": [
      "Para la consola PSV, se tienen los siguientes datos:\n",
      "La correlación entre las reseñas de la crítica y los usuarios es de: 0.73\n",
      "La correlación entre las reseñas de la crítica y las ventas globales es de: 0.13\n",
      "La correlación entre las reseñas de los usuarios y las ventas globales es de: 0.04\n"
     ]
    }
   ],
   "source": [
    "# Obtenemos un dataframe para las ventas de PSV y sus reseñas:\n",
    "df_psv = df_games_filt[(df_games_filt['platform']=='PSV') & (df_games_filt['critic_score'].notnull()) & (df_games_filt['user_score'].notnull())]\n",
    "\n",
    "print(\"Para la consola PSV, se tienen los siguientes datos:\")\n",
    "\n",
    "# Veamos si existe una correlación entre las reseñas de la crítica y los usuarios:\t\n",
    "corr_score_psv = df_psv[['critic_score','user_score','global_sales']].corr()\n",
    "print(f\"La correlación entre las reseñas de la crítica y los usuarios es de: {corr_score_psv.iloc[0,1]:.2f}\")\n",
    "# Obtenemos la correlación entre las reseñas de la crítica y las ventas globales:\n",
    "print(f\"La correlación entre las reseñas de la crítica y las ventas globales es de: {corr_score_psv.iloc[0,2]:.2f}\")\n",
    "# Obtenemos la correlación entre las reseñas de los usuarios y las ventas globales:\n",
    "print(f\"La correlación entre las reseñas de los usuarios y las ventas globales es de: {corr_score_psv.iloc[1,2]:.2f}\")"
   ]
  },
  {
   "cell_type": "markdown",
   "metadata": {},
   "source": [
    "En ambos casos hay una aparente correlación entre las puntuaciones de la crítica y los usuarios, sin embargo no llega a ser fuerte (mín. 0.80) y la correlación entre ambas críticas y las ventas es débil o muy débil."
   ]
  },
  {
   "cell_type": "markdown",
   "metadata": {},
   "source": [
    "Partiendo de los últimos filtros, plataformas que hemos filtrado y datos a partir de 2013, vamos a analizar como se han comportado las ventas por géneros."
   ]
  },
  {
   "cell_type": "code",
   "execution_count": 132,
   "metadata": {},
   "outputs": [
    {
     "data": {
      "text/html": [
       "<div>\n",
       "<style scoped>\n",
       "    .dataframe tbody tr th:only-of-type {\n",
       "        vertical-align: middle;\n",
       "    }\n",
       "\n",
       "    .dataframe tbody tr th {\n",
       "        vertical-align: top;\n",
       "    }\n",
       "\n",
       "    .dataframe thead th {\n",
       "        text-align: right;\n",
       "    }\n",
       "</style>\n",
       "<table border=\"1\" class=\"dataframe\">\n",
       "  <thead>\n",
       "    <tr style=\"text-align: right;\">\n",
       "      <th></th>\n",
       "      <th>count</th>\n",
       "      <th>mean</th>\n",
       "      <th>std</th>\n",
       "      <th>min</th>\n",
       "      <th>25%</th>\n",
       "      <th>50%</th>\n",
       "      <th>75%</th>\n",
       "      <th>max</th>\n",
       "    </tr>\n",
       "  </thead>\n",
       "  <tbody>\n",
       "    <tr>\n",
       "      <th>year_of_release</th>\n",
       "      <td>1328.0</td>\n",
       "      <td>2014.77259</td>\n",
       "      <td>1.037838</td>\n",
       "      <td>2013.0</td>\n",
       "      <td>2014.0</td>\n",
       "      <td>2015.0</td>\n",
       "      <td>2016.0</td>\n",
       "      <td>2016.0</td>\n",
       "    </tr>\n",
       "    <tr>\n",
       "      <th>na_sales</th>\n",
       "      <td>1328.0</td>\n",
       "      <td>0.191242</td>\n",
       "      <td>0.469497</td>\n",
       "      <td>0.0</td>\n",
       "      <td>0.0</td>\n",
       "      <td>0.03</td>\n",
       "      <td>0.15</td>\n",
       "      <td>6.03</td>\n",
       "    </tr>\n",
       "    <tr>\n",
       "      <th>eu_sales</th>\n",
       "      <td>1328.0</td>\n",
       "      <td>0.188592</td>\n",
       "      <td>0.502429</td>\n",
       "      <td>0.0</td>\n",
       "      <td>0.0</td>\n",
       "      <td>0.03</td>\n",
       "      <td>0.15</td>\n",
       "      <td>6.31</td>\n",
       "    </tr>\n",
       "    <tr>\n",
       "      <th>jp_sales</th>\n",
       "      <td>1328.0</td>\n",
       "      <td>0.034556</td>\n",
       "      <td>0.092223</td>\n",
       "      <td>0.0</td>\n",
       "      <td>0.0</td>\n",
       "      <td>0.0</td>\n",
       "      <td>0.03</td>\n",
       "      <td>1.46</td>\n",
       "    </tr>\n",
       "    <tr>\n",
       "      <th>other_sales</th>\n",
       "      <td>1328.0</td>\n",
       "      <td>0.056288</td>\n",
       "      <td>0.154434</td>\n",
       "      <td>0.0</td>\n",
       "      <td>0.0</td>\n",
       "      <td>0.01</td>\n",
       "      <td>0.04</td>\n",
       "      <td>2.38</td>\n",
       "    </tr>\n",
       "    <tr>\n",
       "      <th>critic_score</th>\n",
       "      <td>721.0</td>\n",
       "      <td>73.023578</td>\n",
       "      <td>12.077447</td>\n",
       "      <td>19.0</td>\n",
       "      <td>67.0</td>\n",
       "      <td>75.0</td>\n",
       "      <td>81.0</td>\n",
       "      <td>97.0</td>\n",
       "    </tr>\n",
       "    <tr>\n",
       "      <th>user_score</th>\n",
       "      <td>784.0</td>\n",
       "      <td>67.149235</td>\n",
       "      <td>15.319065</td>\n",
       "      <td>14.0</td>\n",
       "      <td>60.0</td>\n",
       "      <td>70.0</td>\n",
       "      <td>78.0</td>\n",
       "      <td>93.0</td>\n",
       "    </tr>\n",
       "    <tr>\n",
       "      <th>global_sales</th>\n",
       "      <td>1328.0</td>\n",
       "      <td>0.470678</td>\n",
       "      <td>1.086466</td>\n",
       "      <td>0.01</td>\n",
       "      <td>0.03</td>\n",
       "      <td>0.11</td>\n",
       "      <td>0.38</td>\n",
       "      <td>14.63</td>\n",
       "    </tr>\n",
       "  </tbody>\n",
       "</table>\n",
       "</div>"
      ],
      "text/plain": [
       "                  count        mean        std     min     25%     50%  \\\n",
       "year_of_release  1328.0  2014.77259   1.037838  2013.0  2014.0  2015.0   \n",
       "na_sales         1328.0    0.191242   0.469497     0.0     0.0    0.03   \n",
       "eu_sales         1328.0    0.188592   0.502429     0.0     0.0    0.03   \n",
       "jp_sales         1328.0    0.034556   0.092223     0.0     0.0     0.0   \n",
       "other_sales      1328.0    0.056288   0.154434     0.0     0.0    0.01   \n",
       "critic_score      721.0   73.023578  12.077447    19.0    67.0    75.0   \n",
       "user_score        784.0   67.149235  15.319065    14.0    60.0    70.0   \n",
       "global_sales     1328.0    0.470678   1.086466    0.01    0.03    0.11   \n",
       "\n",
       "                    75%     max  \n",
       "year_of_release  2016.0  2016.0  \n",
       "na_sales           0.15    6.03  \n",
       "eu_sales           0.15    6.31  \n",
       "jp_sales           0.03    1.46  \n",
       "other_sales        0.04    2.38  \n",
       "critic_score       81.0    97.0  \n",
       "user_score         78.0    93.0  \n",
       "global_sales       0.38   14.63  "
      ]
     },
     "execution_count": 132,
     "metadata": {},
     "output_type": "execute_result"
    }
   ],
   "source": [
    "# Construimos el dataframe con todos los filtros antes mencionados:\n",
    "df_games_filt_final = df_games_filt[df_games_filt['year_of_release'] >= 2013]\n",
    "\n",
    "# Validamos:\n",
    "df_games_filt_final.describe().T.round(2)"
   ]
  },
  {
   "cell_type": "markdown",
   "metadata": {},
   "source": [
    "Analizaremos el comportamiento de las plataformos por región, para eso, compraremos las ventas totales de los títulos por plataforma separando por región."
   ]
  },
  {
   "cell_type": "code",
   "execution_count": 133,
   "metadata": {},
   "outputs": [
    {
     "data": {
      "image/png": "[encoded data removed]",
      "text/plain": [
       "<Figure size 640x480 with 1 Axes>"
      ]
     },
     "metadata": {},
     "output_type": "display_data"
    },
    {
     "data": {
      "image/png": "[encoded data removed]",
      "text/plain": [
       "<Figure size 640x480 with 1 Axes>"
      ]
     },
     "metadata": {},
     "output_type": "display_data"
    },
    {
     "data": {
      "image/png": "[encoded data removed]",
      "text/plain": [
       "<Figure size 640x480 with 1 Axes>"
      ]
     },
     "metadata": {},
     "output_type": "display_data"
    },
    {
     "data": {
      "image/png": "[encoded data removed]",
      "text/plain": [
       "<Figure size 640x480 with 1 Axes>"
      ]
     },
     "metadata": {},
     "output_type": "display_data"
    }
   ],
   "source": [
    "# Para presentar como está la partición del mercado de las plataformas por región, crearemos un gráfico\n",
    "# de pastel para cada región:\n",
    "regiones = {'NA':'na_sales', 'EU':'eu_sales', 'JP':'jp_sales', 'Otras':'other_sales'}\n",
    "\n",
    "for region in regiones:\n",
    "    ventas = df_games_filt_final.groupby('platform')[regiones[region]].sum()\n",
    "    plt.pie(ventas, labels=ventas.index, autopct='%1.2f%%', startangle=90)\n",
    "    plt.axis('equal')\n",
    "    plt.title(f'Partición de mercado por ventas en {region}')\n",
    "    plt.show()"
   ]
  },
  {
   "cell_type": "markdown",
   "metadata": {},
   "source": [
    "#### Observaciones:"
   ]
  },
  {
   "cell_type": "markdown",
   "metadata": {},
   "source": [
    "Redujimos el número de plataformas que conviene estudiar basándonos en el su ciclo de vida, es decir, aquellas que parece que ya lo excedieron han sido retiradas, con esto hemos podido profundizar en el análisis."
   ]
  },
  {
   "cell_type": "markdown",
   "metadata": {},
   "source": [
    "Con la información ya (doblemente) acotada/filtrada, podemos observar que todas las plataformas están experimentando una disminución fuerte en las ventas, sin embargo, PS4 y XOne son las que mantienen mayores ventas para 2016."
   ]
  },
  {
   "cell_type": "markdown",
   "metadata": {},
   "source": [
    "Por otro lado, juzgando por ritmo de disminución de las ventas, convendrá dar seguimiento a PC, PS4, PSV y XOne debido a que cayeron aproximadamente la mitad o menos, en cambio, la caída para Wii y WiiU fue mucho más fuerte, siendo que Wii practicamente anuncia su salida del mercado en 2017."
   ]
  },
  {
   "cell_type": "markdown",
   "metadata": {},
   "source": [
    "Tomando los datos a partir de 2013, que es cuando inician ventas para PS4 y XOne, comparando las plataformas, para videojuegos que han salido en múltiples de ellas, PS4 ha sido, por mucho, la plataforma más exitosa. Así mismo, esta plataforma tiene la mayor cantidad de títulos exclusivos."
   ]
  },
  {
   "cell_type": "markdown",
   "metadata": {},
   "source": [
    "Dando más profundidad a nuestro análisis, hemos querido ver en que grado las críticas o puntajes pueden afectar al desempeño de los títulos y plataformas y hemos visto que no existe una aparente correlación entre el éxito en ventas de un título y la calificación que este haya recibido por la crítica o los usuarios."
   ]
  },
  {
   "cell_type": "markdown",
   "metadata": {},
   "source": [
    "Por último, salvo por Japón (JP), podemos observar que en todas las regiones se compran más juegos de PS4 y luego de XOne. WiiU y PC están en 3° o 4° dependiendo de la región y Wii y PSV en 5° o 6°."
   ]
  },
  {
   "cell_type": "markdown",
   "metadata": {},
   "source": [
    "### Géneros:"
   ]
  },
  {
   "cell_type": "markdown",
   "metadata": {},
   "source": [
    "Parece que hay géneros con muchas más ventas que otros, pero esto puede ser un poco engañoso, por lo que obtendremos el número de juegos por género, las venta totales y el promedio de ventas por título."
   ]
  },
  {
   "cell_type": "code",
   "execution_count": 130,
   "metadata": {},
   "outputs": [
    {
     "name": "stdout",
     "output_type": "stream",
     "text": [
      "El género shooter tiene 121 títulos, con ventas totales de $165.65 MUSD y ventas promedio de $1.37 MUSD.\n",
      "El género action tiene 463 títulos, con ventas totales de $168.59 MUSD y ventas promedio de $0.36 MUSD.\n",
      "El género sports tiene 122 títulos, con ventas totales de $89.80 MUSD y ventas promedio de $0.74 MUSD.\n",
      "El género role-playing tiene 167 títulos, con ventas totales de $56.83 MUSD y ventas promedio de $0.34 MUSD.\n",
      "El género racing tiene 60 títulos, con ventas totales de $30.36 MUSD y ventas promedio de $0.51 MUSD.\n",
      "El género fighting tiene 41 títulos, con ventas totales de $18.48 MUSD y ventas promedio de $0.45 MUSD.\n",
      "El género platform tiene 42 títulos, con ventas totales de $27.68 MUSD y ventas promedio de $0.66 MUSD.\n",
      "El género misc tiene 87 títulos, con ventas totales de $34.62 MUSD y ventas promedio de $0.40 MUSD.\n",
      "El género simulation tiene 36 títulos, con ventas totales de $10.42 MUSD y ventas promedio de $0.29 MUSD.\n",
      "El género strategy tiene 39 títulos, con ventas totales de $7.90 MUSD y ventas promedio de $0.20 MUSD.\n",
      "El género adventure tiene 143 títulos, con ventas totales de $13.33 MUSD y ventas promedio de $0.09 MUSD.\n",
      "El género puzzle tiene 7 títulos, con ventas totales de $1.40 MUSD y ventas promedio de $0.20 MUSD.\n"
     ]
    }
   ],
   "source": [
    "# Obtenemos el número de títulos por género, las ventas totales por género y las ventas promedio por género:\n",
    "generos = df_games_filt_final['genre'].unique()\n",
    "\n",
    "num_titulos_gen = {}\n",
    "ventas_totales_gen = {}\n",
    "ventas_promedio_gen = {}\n",
    "\n",
    "for genero in generos:\n",
    "    titulos = df_games_filt_final[df_games_filt_final['genre']==genero].shape[0]\n",
    "    ventas = df_games_filt_final[df_games_filt_final['genre']==genero]['global_sales'].sum()\n",
    "    promedio = ventas / titulos\n",
    "    num_titulos_gen[genero] = titulos\n",
    "    ventas_totales_gen[genero] = ventas\n",
    "    ventas_promedio_gen[genero] = promedio\n",
    "\n",
    "    print(f\"El género {genero} tiene {titulos} títulos, con ventas totales de ${ventas:.2f} MUSD y ventas promedio de ${promedio:.2f} MUSD.\")"
   ]
  },
  {
   "cell_type": "markdown",
   "metadata": {},
   "source": [
    "Parece que, en promedio, \"shooter\" es más redituable que cualquier otro género y \"action\", aunque tiene la mayor cantidad de ventas totales, en promedio no es tan redituable."
   ]
  },
  {
   "cell_type": "code",
   "execution_count": 131,
   "metadata": {},
   "outputs": [
    {
     "name": "stdout",
     "output_type": "stream",
     "text": [
      "Los 5 géneros más redituables por el promedio de ventas son:\n",
      " Index(['shooter', 'sports', 'platform', 'racing', 'fighting'], dtype='object')\n"
     ]
    }
   ],
   "source": [
    "# Por facilidad creamos un DF con las ventas promedio por género:\n",
    "df_top_generos = pd.DataFrame.from_dict(ventas_promedio_gen,orient='index',columns=['ventas_promedio'])\n",
    "\n",
    "df_top_generos.sort_values(by='ventas_promedio',inplace=True,ascending=False)\n",
    "\n",
    "df_top_generos = df_top_generos.head(5)\n",
    "\n",
    "generos_top_5 = df_top_generos.index\n",
    "\n",
    "print(\"Los 5 géneros más redituables por el promedio de ventas son:\\n\", generos_top_5)"
   ]
  },
  {
   "cell_type": "markdown",
   "metadata": {},
   "source": [
    "Algunos géneros podrían ser facilmente ligados a una u otra clasificación de edad (ESRB) debido a las mecánicas y temáticas propias del título, por ejemplo, en un \"shooter\" sería de esperarse cierto grado de violencia."
   ]
  },
  {
   "cell_type": "markdown",
   "metadata": {},
   "source": [
    "Por lo anterior, se analiza la relación entre los géneros y las clasificaciones y como repercute esto en ventas globales y regionales."
   ]
  },
  {
   "cell_type": "code",
   "execution_count": 134,
   "metadata": {},
   "outputs": [
    {
     "data": {
      "text/html": [
       "<div>\n",
       "<style scoped>\n",
       "    .dataframe tbody tr th:only-of-type {\n",
       "        vertical-align: middle;\n",
       "    }\n",
       "\n",
       "    .dataframe tbody tr th {\n",
       "        vertical-align: top;\n",
       "    }\n",
       "\n",
       "    .dataframe thead th {\n",
       "        text-align: right;\n",
       "    }\n",
       "</style>\n",
       "<table border=\"1\" class=\"dataframe\">\n",
       "  <thead>\n",
       "    <tr style=\"text-align: right;\">\n",
       "      <th></th>\n",
       "      <th></th>\n",
       "      <th>na_sales</th>\n",
       "      <th>eu_sales</th>\n",
       "      <th>jp_sales</th>\n",
       "      <th>other_sales</th>\n",
       "      <th>global_sales</th>\n",
       "    </tr>\n",
       "    <tr>\n",
       "      <th>genre</th>\n",
       "      <th>rating</th>\n",
       "      <th></th>\n",
       "      <th></th>\n",
       "      <th></th>\n",
       "      <th></th>\n",
       "      <th></th>\n",
       "    </tr>\n",
       "  </thead>\n",
       "  <tbody>\n",
       "    <tr>\n",
       "      <th rowspan=\"5\" valign=\"top\">action</th>\n",
       "      <th>E</th>\n",
       "      <td>0.90</td>\n",
       "      <td>0.92</td>\n",
       "      <td>0.08</td>\n",
       "      <td>0.23</td>\n",
       "      <td>2.13</td>\n",
       "    </tr>\n",
       "    <tr>\n",
       "      <th>E10+</th>\n",
       "      <td>9.81</td>\n",
       "      <td>9.61</td>\n",
       "      <td>0.32</td>\n",
       "      <td>2.64</td>\n",
       "      <td>22.38</td>\n",
       "    </tr>\n",
       "    <tr>\n",
       "      <th>M</th>\n",
       "      <td>36.60</td>\n",
       "      <td>39.72</td>\n",
       "      <td>3.27</td>\n",
       "      <td>11.70</td>\n",
       "      <td>91.29</td>\n",
       "    </tr>\n",
       "    <tr>\n",
       "      <th>T</th>\n",
       "      <td>7.66</td>\n",
       "      <td>7.40</td>\n",
       "      <td>2.69</td>\n",
       "      <td>2.60</td>\n",
       "      <td>20.35</td>\n",
       "    </tr>\n",
       "    <tr>\n",
       "      <th>sin_clasificar</th>\n",
       "      <td>11.42</td>\n",
       "      <td>10.93</td>\n",
       "      <td>6.42</td>\n",
       "      <td>3.67</td>\n",
       "      <td>32.44</td>\n",
       "    </tr>\n",
       "    <tr>\n",
       "      <th rowspan=\"5\" valign=\"top\">adventure</th>\n",
       "      <th>E</th>\n",
       "      <td>0.14</td>\n",
       "      <td>0.34</td>\n",
       "      <td>0.00</td>\n",
       "      <td>0.14</td>\n",
       "      <td>0.62</td>\n",
       "    </tr>\n",
       "    <tr>\n",
       "      <th>E10+</th>\n",
       "      <td>0.14</td>\n",
       "      <td>0.35</td>\n",
       "      <td>0.00</td>\n",
       "      <td>0.07</td>\n",
       "      <td>0.56</td>\n",
       "    </tr>\n",
       "    <tr>\n",
       "      <th>M</th>\n",
       "      <td>1.80</td>\n",
       "      <td>2.31</td>\n",
       "      <td>0.30</td>\n",
       "      <td>0.66</td>\n",
       "      <td>5.07</td>\n",
       "    </tr>\n",
       "    <tr>\n",
       "      <th>T</th>\n",
       "      <td>0.21</td>\n",
       "      <td>0.28</td>\n",
       "      <td>0.01</td>\n",
       "      <td>0.07</td>\n",
       "      <td>0.57</td>\n",
       "    </tr>\n",
       "    <tr>\n",
       "      <th>sin_clasificar</th>\n",
       "      <td>1.66</td>\n",
       "      <td>2.14</td>\n",
       "      <td>2.11</td>\n",
       "      <td>0.60</td>\n",
       "      <td>6.51</td>\n",
       "    </tr>\n",
       "    <tr>\n",
       "      <th rowspan=\"4\" valign=\"top\">fighting</th>\n",
       "      <th>E10+</th>\n",
       "      <td>0.50</td>\n",
       "      <td>0.26</td>\n",
       "      <td>0.17</td>\n",
       "      <td>0.08</td>\n",
       "      <td>1.01</td>\n",
       "    </tr>\n",
       "    <tr>\n",
       "      <th>M</th>\n",
       "      <td>2.54</td>\n",
       "      <td>1.05</td>\n",
       "      <td>0.02</td>\n",
       "      <td>0.62</td>\n",
       "      <td>4.23</td>\n",
       "    </tr>\n",
       "    <tr>\n",
       "      <th>T</th>\n",
       "      <td>2.03</td>\n",
       "      <td>2.09</td>\n",
       "      <td>0.95</td>\n",
       "      <td>0.73</td>\n",
       "      <td>5.80</td>\n",
       "    </tr>\n",
       "    <tr>\n",
       "      <th>sin_clasificar</th>\n",
       "      <td>3.64</td>\n",
       "      <td>1.78</td>\n",
       "      <td>1.27</td>\n",
       "      <td>0.75</td>\n",
       "      <td>7.44</td>\n",
       "    </tr>\n",
       "    <tr>\n",
       "      <th rowspan=\"5\" valign=\"top\">misc</th>\n",
       "      <th>E</th>\n",
       "      <td>1.62</td>\n",
       "      <td>1.44</td>\n",
       "      <td>1.18</td>\n",
       "      <td>0.25</td>\n",
       "      <td>4.49</td>\n",
       "    </tr>\n",
       "    <tr>\n",
       "      <th>E10+</th>\n",
       "      <td>6.15</td>\n",
       "      <td>4.44</td>\n",
       "      <td>0.00</td>\n",
       "      <td>1.11</td>\n",
       "      <td>11.70</td>\n",
       "    </tr>\n",
       "    <tr>\n",
       "      <th>M</th>\n",
       "      <td>0.72</td>\n",
       "      <td>0.46</td>\n",
       "      <td>0.18</td>\n",
       "      <td>0.19</td>\n",
       "      <td>1.55</td>\n",
       "    </tr>\n",
       "    <tr>\n",
       "      <th>T</th>\n",
       "      <td>1.77</td>\n",
       "      <td>0.84</td>\n",
       "      <td>0.43</td>\n",
       "      <td>0.41</td>\n",
       "      <td>3.45</td>\n",
       "    </tr>\n",
       "    <tr>\n",
       "      <th>sin_clasificar</th>\n",
       "      <td>4.65</td>\n",
       "      <td>4.59</td>\n",
       "      <td>2.72</td>\n",
       "      <td>1.47</td>\n",
       "      <td>13.43</td>\n",
       "    </tr>\n",
       "    <tr>\n",
       "      <th rowspan=\"4\" valign=\"top\">platform</th>\n",
       "      <th>E</th>\n",
       "      <td>7.03</td>\n",
       "      <td>5.07</td>\n",
       "      <td>2.25</td>\n",
       "      <td>1.37</td>\n",
       "      <td>15.72</td>\n",
       "    </tr>\n",
       "    <tr>\n",
       "      <th>E10+</th>\n",
       "      <td>4.24</td>\n",
       "      <td>3.91</td>\n",
       "      <td>0.59</td>\n",
       "      <td>1.07</td>\n",
       "      <td>9.81</td>\n",
       "    </tr>\n",
       "    <tr>\n",
       "      <th>T</th>\n",
       "      <td>0.21</td>\n",
       "      <td>0.28</td>\n",
       "      <td>0.03</td>\n",
       "      <td>0.06</td>\n",
       "      <td>0.58</td>\n",
       "    </tr>\n",
       "    <tr>\n",
       "      <th>sin_clasificar</th>\n",
       "      <td>0.50</td>\n",
       "      <td>0.76</td>\n",
       "      <td>0.07</td>\n",
       "      <td>0.24</td>\n",
       "      <td>1.57</td>\n",
       "    </tr>\n",
       "    <tr>\n",
       "      <th rowspan=\"3\" valign=\"top\">puzzle</th>\n",
       "      <th>E</th>\n",
       "      <td>0.53</td>\n",
       "      <td>0.38</td>\n",
       "      <td>0.20</td>\n",
       "      <td>0.09</td>\n",
       "      <td>1.20</td>\n",
       "    </tr>\n",
       "    <tr>\n",
       "      <th>E10+</th>\n",
       "      <td>0.09</td>\n",
       "      <td>0.03</td>\n",
       "      <td>0.00</td>\n",
       "      <td>0.01</td>\n",
       "      <td>0.13</td>\n",
       "    </tr>\n",
       "    <tr>\n",
       "      <th>sin_clasificar</th>\n",
       "      <td>0.00</td>\n",
       "      <td>0.00</td>\n",
       "      <td>0.07</td>\n",
       "      <td>0.00</td>\n",
       "      <td>0.07</td>\n",
       "    </tr>\n",
       "    <tr>\n",
       "      <th rowspan=\"4\" valign=\"top\">racing</th>\n",
       "      <th>E</th>\n",
       "      <td>6.67</td>\n",
       "      <td>8.58</td>\n",
       "      <td>1.42</td>\n",
       "      <td>1.75</td>\n",
       "      <td>18.42</td>\n",
       "    </tr>\n",
       "    <tr>\n",
       "      <th>E10+</th>\n",
       "      <td>1.98</td>\n",
       "      <td>2.41</td>\n",
       "      <td>0.05</td>\n",
       "      <td>0.59</td>\n",
       "      <td>5.03</td>\n",
       "    </tr>\n",
       "    <tr>\n",
       "      <th>T</th>\n",
       "      <td>0.60</td>\n",
       "      <td>1.57</td>\n",
       "      <td>0.03</td>\n",
       "      <td>0.32</td>\n",
       "      <td>2.52</td>\n",
       "    </tr>\n",
       "    <tr>\n",
       "      <th>sin_clasificar</th>\n",
       "      <td>1.04</td>\n",
       "      <td>2.62</td>\n",
       "      <td>0.18</td>\n",
       "      <td>0.55</td>\n",
       "      <td>4.39</td>\n",
       "    </tr>\n",
       "    <tr>\n",
       "      <th rowspan=\"5\" valign=\"top\">role-playing</th>\n",
       "      <th>E</th>\n",
       "      <td>0.20</td>\n",
       "      <td>0.14</td>\n",
       "      <td>0.05</td>\n",
       "      <td>0.03</td>\n",
       "      <td>0.42</td>\n",
       "    </tr>\n",
       "    <tr>\n",
       "      <th>E10+</th>\n",
       "      <td>0.12</td>\n",
       "      <td>0.25</td>\n",
       "      <td>0.22</td>\n",
       "      <td>0.08</td>\n",
       "      <td>0.67</td>\n",
       "    </tr>\n",
       "    <tr>\n",
       "      <th>M</th>\n",
       "      <td>12.47</td>\n",
       "      <td>13.50</td>\n",
       "      <td>1.51</td>\n",
       "      <td>3.90</td>\n",
       "      <td>31.38</td>\n",
       "    </tr>\n",
       "    <tr>\n",
       "      <th>T</th>\n",
       "      <td>2.17</td>\n",
       "      <td>1.79</td>\n",
       "      <td>3.78</td>\n",
       "      <td>0.81</td>\n",
       "      <td>8.55</td>\n",
       "    </tr>\n",
       "    <tr>\n",
       "      <th>sin_clasificar</th>\n",
       "      <td>4.65</td>\n",
       "      <td>4.03</td>\n",
       "      <td>5.58</td>\n",
       "      <td>1.55</td>\n",
       "      <td>15.81</td>\n",
       "    </tr>\n",
       "    <tr>\n",
       "      <th rowspan=\"4\" valign=\"top\">shooter</th>\n",
       "      <th>E10+</th>\n",
       "      <td>2.84</td>\n",
       "      <td>2.28</td>\n",
       "      <td>1.54</td>\n",
       "      <td>0.57</td>\n",
       "      <td>7.23</td>\n",
       "    </tr>\n",
       "    <tr>\n",
       "      <th>M</th>\n",
       "      <td>42.08</td>\n",
       "      <td>37.61</td>\n",
       "      <td>1.80</td>\n",
       "      <td>11.58</td>\n",
       "      <td>93.07</td>\n",
       "    </tr>\n",
       "    <tr>\n",
       "      <th>T</th>\n",
       "      <td>12.99</td>\n",
       "      <td>9.66</td>\n",
       "      <td>0.59</td>\n",
       "      <td>3.52</td>\n",
       "      <td>26.76</td>\n",
       "    </tr>\n",
       "    <tr>\n",
       "      <th>sin_clasificar</th>\n",
       "      <td>17.46</td>\n",
       "      <td>15.28</td>\n",
       "      <td>0.63</td>\n",
       "      <td>5.22</td>\n",
       "      <td>38.59</td>\n",
       "    </tr>\n",
       "    <tr>\n",
       "      <th rowspan=\"4\" valign=\"top\">simulation</th>\n",
       "      <th>E</th>\n",
       "      <td>0.33</td>\n",
       "      <td>1.67</td>\n",
       "      <td>0.00</td>\n",
       "      <td>0.18</td>\n",
       "      <td>2.18</td>\n",
       "    </tr>\n",
       "    <tr>\n",
       "      <th>E10+</th>\n",
       "      <td>0.48</td>\n",
       "      <td>0.77</td>\n",
       "      <td>0.00</td>\n",
       "      <td>0.17</td>\n",
       "      <td>1.42</td>\n",
       "    </tr>\n",
       "    <tr>\n",
       "      <th>T</th>\n",
       "      <td>1.15</td>\n",
       "      <td>2.44</td>\n",
       "      <td>0.06</td>\n",
       "      <td>0.31</td>\n",
       "      <td>3.96</td>\n",
       "    </tr>\n",
       "    <tr>\n",
       "      <th>sin_clasificar</th>\n",
       "      <td>0.47</td>\n",
       "      <td>2.02</td>\n",
       "      <td>0.16</td>\n",
       "      <td>0.21</td>\n",
       "      <td>2.86</td>\n",
       "    </tr>\n",
       "    <tr>\n",
       "      <th rowspan=\"4\" valign=\"top\">sports</th>\n",
       "      <th>E</th>\n",
       "      <td>26.67</td>\n",
       "      <td>32.94</td>\n",
       "      <td>1.14</td>\n",
       "      <td>9.32</td>\n",
       "      <td>70.07</td>\n",
       "    </tr>\n",
       "    <tr>\n",
       "      <th>E10+</th>\n",
       "      <td>6.69</td>\n",
       "      <td>1.79</td>\n",
       "      <td>0.09</td>\n",
       "      <td>1.41</td>\n",
       "      <td>9.98</td>\n",
       "    </tr>\n",
       "    <tr>\n",
       "      <th>T</th>\n",
       "      <td>3.19</td>\n",
       "      <td>3.34</td>\n",
       "      <td>0.01</td>\n",
       "      <td>1.04</td>\n",
       "      <td>7.58</td>\n",
       "    </tr>\n",
       "    <tr>\n",
       "      <th>sin_clasificar</th>\n",
       "      <td>0.45</td>\n",
       "      <td>0.60</td>\n",
       "      <td>1.00</td>\n",
       "      <td>0.12</td>\n",
       "      <td>2.17</td>\n",
       "    </tr>\n",
       "    <tr>\n",
       "      <th rowspan=\"5\" valign=\"top\">strategy</th>\n",
       "      <th>E</th>\n",
       "      <td>0.44</td>\n",
       "      <td>0.28</td>\n",
       "      <td>0.00</td>\n",
       "      <td>0.11</td>\n",
       "      <td>0.83</td>\n",
       "    </tr>\n",
       "    <tr>\n",
       "      <th>E10+</th>\n",
       "      <td>0.66</td>\n",
       "      <td>0.89</td>\n",
       "      <td>0.29</td>\n",
       "      <td>0.14</td>\n",
       "      <td>1.98</td>\n",
       "    </tr>\n",
       "    <tr>\n",
       "      <th>M</th>\n",
       "      <td>0.06</td>\n",
       "      <td>0.25</td>\n",
       "      <td>0.00</td>\n",
       "      <td>0.04</td>\n",
       "      <td>0.35</td>\n",
       "    </tr>\n",
       "    <tr>\n",
       "      <th>T</th>\n",
       "      <td>1.41</td>\n",
       "      <td>2.05</td>\n",
       "      <td>0.02</td>\n",
       "      <td>0.38</td>\n",
       "      <td>3.86</td>\n",
       "    </tr>\n",
       "    <tr>\n",
       "      <th>sin_clasificar</th>\n",
       "      <td>0.14</td>\n",
       "      <td>0.31</td>\n",
       "      <td>0.41</td>\n",
       "      <td>0.02</td>\n",
       "      <td>0.88</td>\n",
       "    </tr>\n",
       "  </tbody>\n",
       "</table>\n",
       "</div>"
      ],
      "text/plain": [
       "                             na_sales  eu_sales  jp_sales  other_sales  \\\n",
       "genre        rating                                                      \n",
       "action       E                   0.90      0.92      0.08         0.23   \n",
       "             E10+                9.81      9.61      0.32         2.64   \n",
       "             M                  36.60     39.72      3.27        11.70   \n",
       "             T                   7.66      7.40      2.69         2.60   \n",
       "             sin_clasificar     11.42     10.93      6.42         3.67   \n",
       "adventure    E                   0.14      0.34      0.00         0.14   \n",
       "             E10+                0.14      0.35      0.00         0.07   \n",
       "             M                   1.80      2.31      0.30         0.66   \n",
       "             T                   0.21      0.28      0.01         0.07   \n",
       "             sin_clasificar      1.66      2.14      2.11         0.60   \n",
       "fighting     E10+                0.50      0.26      0.17         0.08   \n",
       "             M                   2.54      1.05      0.02         0.62   \n",
       "             T                   2.03      2.09      0.95         0.73   \n",
       "             sin_clasificar      3.64      1.78      1.27         0.75   \n",
       "misc         E                   1.62      1.44      1.18         0.25   \n",
       "             E10+                6.15      4.44      0.00         1.11   \n",
       "             M                   0.72      0.46      0.18         0.19   \n",
       "             T                   1.77      0.84      0.43         0.41   \n",
       "             sin_clasificar      4.65      4.59      2.72         1.47   \n",
       "platform     E                   7.03      5.07      2.25         1.37   \n",
       "             E10+                4.24      3.91      0.59         1.07   \n",
       "             T                   0.21      0.28      0.03         0.06   \n",
       "             sin_clasificar      0.50      0.76      0.07         0.24   \n",
       "puzzle       E                   0.53      0.38      0.20         0.09   \n",
       "             E10+                0.09      0.03      0.00         0.01   \n",
       "             sin_clasificar      0.00      0.00      0.07         0.00   \n",
       "racing       E                   6.67      8.58      1.42         1.75   \n",
       "             E10+                1.98      2.41      0.05         0.59   \n",
       "             T                   0.60      1.57      0.03         0.32   \n",
       "             sin_clasificar      1.04      2.62      0.18         0.55   \n",
       "role-playing E                   0.20      0.14      0.05         0.03   \n",
       "             E10+                0.12      0.25      0.22         0.08   \n",
       "             M                  12.47     13.50      1.51         3.90   \n",
       "             T                   2.17      1.79      3.78         0.81   \n",
       "             sin_clasificar      4.65      4.03      5.58         1.55   \n",
       "shooter      E10+                2.84      2.28      1.54         0.57   \n",
       "             M                  42.08     37.61      1.80        11.58   \n",
       "             T                  12.99      9.66      0.59         3.52   \n",
       "             sin_clasificar     17.46     15.28      0.63         5.22   \n",
       "simulation   E                   0.33      1.67      0.00         0.18   \n",
       "             E10+                0.48      0.77      0.00         0.17   \n",
       "             T                   1.15      2.44      0.06         0.31   \n",
       "             sin_clasificar      0.47      2.02      0.16         0.21   \n",
       "sports       E                  26.67     32.94      1.14         9.32   \n",
       "             E10+                6.69      1.79      0.09         1.41   \n",
       "             T                   3.19      3.34      0.01         1.04   \n",
       "             sin_clasificar      0.45      0.60      1.00         0.12   \n",
       "strategy     E                   0.44      0.28      0.00         0.11   \n",
       "             E10+                0.66      0.89      0.29         0.14   \n",
       "             M                   0.06      0.25      0.00         0.04   \n",
       "             T                   1.41      2.05      0.02         0.38   \n",
       "             sin_clasificar      0.14      0.31      0.41         0.02   \n",
       "\n",
       "                             global_sales  \n",
       "genre        rating                        \n",
       "action       E                       2.13  \n",
       "             E10+                   22.38  \n",
       "             M                      91.29  \n",
       "             T                      20.35  \n",
       "             sin_clasificar         32.44  \n",
       "adventure    E                       0.62  \n",
       "             E10+                    0.56  \n",
       "             M                       5.07  \n",
       "             T                       0.57  \n",
       "             sin_clasificar          6.51  \n",
       "fighting     E10+                    1.01  \n",
       "             M                       4.23  \n",
       "             T                       5.80  \n",
       "             sin_clasificar          7.44  \n",
       "misc         E                       4.49  \n",
       "             E10+                   11.70  \n",
       "             M                       1.55  \n",
       "             T                       3.45  \n",
       "             sin_clasificar         13.43  \n",
       "platform     E                      15.72  \n",
       "             E10+                    9.81  \n",
       "             T                       0.58  \n",
       "             sin_clasificar          1.57  \n",
       "puzzle       E                       1.20  \n",
       "             E10+                    0.13  \n",
       "             sin_clasificar          0.07  \n",
       "racing       E                      18.42  \n",
       "             E10+                    5.03  \n",
       "             T                       2.52  \n",
       "             sin_clasificar          4.39  \n",
       "role-playing E                       0.42  \n",
       "             E10+                    0.67  \n",
       "             M                      31.38  \n",
       "             T                       8.55  \n",
       "             sin_clasificar         15.81  \n",
       "shooter      E10+                    7.23  \n",
       "             M                      93.07  \n",
       "             T                      26.76  \n",
       "             sin_clasificar         38.59  \n",
       "simulation   E                       2.18  \n",
       "             E10+                    1.42  \n",
       "             T                       3.96  \n",
       "             sin_clasificar          2.86  \n",
       "sports       E                      70.07  \n",
       "             E10+                    9.98  \n",
       "             T                       7.58  \n",
       "             sin_clasificar          2.17  \n",
       "strategy     E                       0.83  \n",
       "             E10+                    1.98  \n",
       "             M                       0.35  \n",
       "             T                       3.86  \n",
       "             sin_clasificar          0.88  "
      ]
     },
     "execution_count": 134,
     "metadata": {},
     "output_type": "execute_result"
    }
   ],
   "source": [
    "# Creamos un dataframe agrupando por género y por rating (ESRB) para presentar las ventas por región y\n",
    "# globales:\n",
    "df_ventas_gen_rating = df_games_filt_final.groupby(['genre','rating'])[['na_sales','eu_sales','jp_sales','other_sales','global_sales']].sum()\n",
    "\n",
    "df_ventas_gen_rating"
   ]
  },
  {
   "cell_type": "markdown",
   "metadata": {},
   "source": [
    "En términos generales, los juegos para adultos (M = Mature) suelen desempeñarse mejor sin importar la región y el género."
   ]
  },
  {
   "cell_type": "markdown",
   "metadata": {},
   "source": [
    "Probaremos lo revisado en esta sección tomando el top 5 de títulos más vendidos a nivel global."
   ]
  },
  {
   "cell_type": "code",
   "execution_count": 140,
   "metadata": {},
   "outputs": [
    {
     "data": {
      "text/html": [
       "<div>\n",
       "<style scoped>\n",
       "    .dataframe tbody tr th:only-of-type {\n",
       "        vertical-align: middle;\n",
       "    }\n",
       "\n",
       "    .dataframe tbody tr th {\n",
       "        vertical-align: top;\n",
       "    }\n",
       "\n",
       "    .dataframe thead th {\n",
       "        text-align: right;\n",
       "    }\n",
       "</style>\n",
       "<table border=\"1\" class=\"dataframe\">\n",
       "  <thead>\n",
       "    <tr style=\"text-align: right;\">\n",
       "      <th></th>\n",
       "      <th>name</th>\n",
       "      <th>platform</th>\n",
       "      <th>year_of_release</th>\n",
       "      <th>genre</th>\n",
       "      <th>na_sales</th>\n",
       "      <th>eu_sales</th>\n",
       "      <th>jp_sales</th>\n",
       "      <th>other_sales</th>\n",
       "      <th>critic_score</th>\n",
       "      <th>user_score</th>\n",
       "      <th>rating</th>\n",
       "      <th>global_sales</th>\n",
       "    </tr>\n",
       "  </thead>\n",
       "  <tbody>\n",
       "    <tr>\n",
       "      <th>31</th>\n",
       "      <td>call of duty: black ops 3</td>\n",
       "      <td>PS4</td>\n",
       "      <td>2015</td>\n",
       "      <td>shooter</td>\n",
       "      <td>6.03</td>\n",
       "      <td>5.86</td>\n",
       "      <td>0.36</td>\n",
       "      <td>2.38</td>\n",
       "      <td>NaN</td>\n",
       "      <td>NaN</td>\n",
       "      <td>sin_clasificar</td>\n",
       "      <td>14.63</td>\n",
       "    </tr>\n",
       "    <tr>\n",
       "      <th>42</th>\n",
       "      <td>grand theft auto v</td>\n",
       "      <td>PS4</td>\n",
       "      <td>2014</td>\n",
       "      <td>action</td>\n",
       "      <td>3.96</td>\n",
       "      <td>6.31</td>\n",
       "      <td>0.38</td>\n",
       "      <td>1.97</td>\n",
       "      <td>97.0</td>\n",
       "      <td>83.0</td>\n",
       "      <td>M</td>\n",
       "      <td>12.62</td>\n",
       "    </tr>\n",
       "    <tr>\n",
       "      <th>77</th>\n",
       "      <td>fifa 16</td>\n",
       "      <td>PS4</td>\n",
       "      <td>2015</td>\n",
       "      <td>sports</td>\n",
       "      <td>1.12</td>\n",
       "      <td>6.12</td>\n",
       "      <td>0.06</td>\n",
       "      <td>1.28</td>\n",
       "      <td>82.0</td>\n",
       "      <td>43.0</td>\n",
       "      <td>E</td>\n",
       "      <td>8.58</td>\n",
       "    </tr>\n",
       "    <tr>\n",
       "      <th>87</th>\n",
       "      <td>star wars battlefront (2015)</td>\n",
       "      <td>PS4</td>\n",
       "      <td>2015</td>\n",
       "      <td>shooter</td>\n",
       "      <td>2.99</td>\n",
       "      <td>3.49</td>\n",
       "      <td>0.22</td>\n",
       "      <td>1.28</td>\n",
       "      <td>NaN</td>\n",
       "      <td>NaN</td>\n",
       "      <td>sin_clasificar</td>\n",
       "      <td>7.98</td>\n",
       "    </tr>\n",
       "    <tr>\n",
       "      <th>92</th>\n",
       "      <td>call of duty: advanced warfare</td>\n",
       "      <td>PS4</td>\n",
       "      <td>2014</td>\n",
       "      <td>shooter</td>\n",
       "      <td>2.81</td>\n",
       "      <td>3.48</td>\n",
       "      <td>0.14</td>\n",
       "      <td>1.23</td>\n",
       "      <td>83.0</td>\n",
       "      <td>57.0</td>\n",
       "      <td>M</td>\n",
       "      <td>7.66</td>\n",
       "    </tr>\n",
       "  </tbody>\n",
       "</table>\n",
       "</div>"
      ],
      "text/plain": [
       "                              name platform  year_of_release    genre  \\\n",
       "31       call of duty: black ops 3      PS4             2015  shooter   \n",
       "42              grand theft auto v      PS4             2014   action   \n",
       "77                         fifa 16      PS4             2015   sports   \n",
       "87    star wars battlefront (2015)      PS4             2015  shooter   \n",
       "92  call of duty: advanced warfare      PS4             2014  shooter   \n",
       "\n",
       "    na_sales  eu_sales  jp_sales  other_sales  critic_score  user_score  \\\n",
       "31      6.03      5.86      0.36         2.38           NaN         NaN   \n",
       "42      3.96      6.31      0.38         1.97          97.0        83.0   \n",
       "77      1.12      6.12      0.06         1.28          82.0        43.0   \n",
       "87      2.99      3.49      0.22         1.28           NaN         NaN   \n",
       "92      2.81      3.48      0.14         1.23          83.0        57.0   \n",
       "\n",
       "            rating  global_sales  \n",
       "31  sin_clasificar         14.63  \n",
       "42               M         12.62  \n",
       "77               E          8.58  \n",
       "87  sin_clasificar          7.98  \n",
       "92               M          7.66  "
      ]
     },
     "execution_count": 140,
     "metadata": {},
     "output_type": "execute_result"
    }
   ],
   "source": [
    "# Mostramos el top 5 de títulos más vendidos a nivel global con sus ventas, clasificación, género y consola:\n",
    "df_games_filt_final.sort_values(by='global_sales',ascending=False).head(5)"
   ]
  },
  {
   "cell_type": "markdown",
   "metadata": {},
   "source": [
    "## Experimentación estadística:"
   ]
  },
  {
   "cell_type": "markdown",
   "metadata": {},
   "source": [
    "Para finalizar el análisis, realizaremos unas cuantas pruebas de hipótesis de modo que podamos obtener información adicional para elaborar las conclusiones de este trabajo."
   ]
  },
  {
   "cell_type": "markdown",
   "metadata": {},
   "source": [
    "### Hipótesis 1: Las calificaciones promedio de los usuarios para las plataformas Xbox One y PC son las mismas."
   ]
  },
  {
   "cell_type": "code",
   "execution_count": 137,
   "metadata": {},
   "outputs": [
    {
     "name": "stdout",
     "output_type": "stream",
     "text": [
      "El valor p de la prueba de hipótesis es de: 0.16\n",
      "No se rechaza la hipótesis nula, por lo que las calificaciones medias de los usuarios de XOne y PC son iguales.\n"
     ]
    }
   ],
   "source": [
    "# Para probar esta hipótesis crearemos dos Series, una con todas las calificaciones (no nulas) de XOne y\n",
    "# otra con todas las calificaciones (no nulas) de PC:\n",
    "s_xone_us = df_games_filt_final[(df_games_filt_final['platform']=='XOne')\n",
    "                             & (df_games_filt_final['user_score'].isna() == False)]['user_score']\n",
    "\n",
    "s_pc_us = df_games_filt_final[(df_games_filt_final['platform']=='PC')\n",
    "                             & (df_games_filt_final['user_score'].isna() == False)]['user_score']\n",
    "\n",
    "# Nuestras series son tomadas del dataframe filtrado para manter la información relevante.\n",
    "\n",
    "# Estalecemos un rango de confianza del 95%:\n",
    "alpha = 0.05\n",
    "\n",
    "# Realizamos la prueba de hipótesis:\n",
    "prueba_h1 = st.ttest_ind(s_xone_us, s_pc_us, equal_var=False)\n",
    "p_h1 = prueba_h1.pvalue\n",
    "\n",
    "print(f\"El valor p de la prueba de hipótesis es de: {p_h1:.2f}\")\n",
    "\n",
    "if p_h1 < alpha:\n",
    "    print(f\"Se rechaza la hipótesis nula, por lo que las calificaciones medias de los usuarios de XOne y PC son diferentes.\")\n",
    "else:\n",
    "    print(f\"No se rechaza la hipótesis nula, por lo que las calificaciones medias de los usuarios de XOne y PC son iguales.\")"
   ]
  },
  {
   "cell_type": "markdown",
   "metadata": {},
   "source": [
    "### Hipótesis 2: Las calificaciones promedio de los usuarios para los géneros de Acción y Deportes son diferentes."
   ]
  },
  {
   "cell_type": "code",
   "execution_count": 138,
   "metadata": {},
   "outputs": [
    {
     "name": "stdout",
     "output_type": "stream",
     "text": [
      "El valor p de la prueba de hipótesis es de: 0.00\n",
      "Se rechaza la hipótesis nula, por lo que las calificaciones medias de los usuarios para juegos de Acción y deportes son diferentes.\n"
     ]
    }
   ],
   "source": [
    "# Seguimos un procedimiento semejante, creando dos series de datos para las calificaciones de los usuarios\n",
    "# de los géneros Acción y Deportes:\n",
    "s_accion_us = df_games_filt_final[(df_games_filt_final['genre']=='action')\n",
    "                                  & (df_games_filt_final['user_score'].isna() == False)]['user_score']\n",
    "s_deportes_us = df_games_filt_final[(df_games_filt_final['genre']=='sports')\n",
    "                                  & (df_games_filt_final['user_score'].isna() == False)]['user_score']\n",
    "\n",
    "# Nuestras series son tomadas del dataframe filtrado para manter la información relevante.\n",
    "\n",
    "# Estalecemos un rango de confianza del 95%:\n",
    "alpha = 0.05\n",
    "\n",
    "# Realizamos la prueba de hipótesis:\n",
    "prueba_h2 = st.ttest_ind(s_accion_us, s_deportes_us, equal_var=False)\n",
    "p_h2 = prueba_h2.pvalue\n",
    "\n",
    "print(f\"El valor p de la prueba de hipótesis es de: {p_h2:.2f}\")\n",
    "\n",
    "if p_h2 < alpha:\n",
    "    print(f\"Se rechaza la hipótesis nula, por lo que las calificaciones medias de los usuarios para juegos de Acción y deportes son diferentes.\")\n",
    "else:\n",
    "    print(f\"No se rechaza la hipótesis nula, por lo que las calificaciones medias de los usuarios para juegos de Acción y deportes son iguales.\")"
   ]
  },
  {
   "cell_type": "markdown",
   "metadata": {},
   "source": [
    "### Observaciones:"
   ]
  },
  {
   "cell_type": "markdown",
   "metadata": {},
   "source": [
    "Las hipótesis anteriores nos ayudan a confirmar o desmentir si el comportamiento para dos condiciones distintas es igual o diferente. En este caso, las condiciones han sido las consolas XBOX One y PC y, por otro lado, los géneros de Acción y Deportes."
   ]
  },
  {
   "cell_type": "markdown",
   "metadata": {},
   "source": [
    "Las condiciones se han escogido aleatoriamente para fines demostrativos, pero el planteamiento de las hipótesis ha respondido a la forma en que suelen presentar hipótesis estadísticas nulas, es decir, suponiendo que el cambio o diferencia entre un par de condiciones para una misma variable es *Nulo*, o sea que no tiene significancia estadística."
   ]
  },
  {
   "cell_type": "markdown",
   "metadata": {},
   "source": [
    "Utilizamos la prueba T de la librería Scipy ya que es una prueba común y popular para encontrar significancia estadística, en este caso, el valor de significancia \"p\" que nos indica que tan extrema es la distribución de un conjunto de datos respecto de una distribución normal. Esto lo hemos comparado con un valor alpha de 5% con el que indicamos que esperamos que, por lo menos el 95% de los datos de cada muestra compartan una distribución semejante entre sí."
   ]
  },
  {
   "cell_type": "markdown",
   "metadata": {},
   "source": [
    "Cuando nuestro valor de p es mayor que el valor de alpha, consideramos que no hay diferencias estadísticas significativas y, por ende, no podemos rechazar la hipótesis nula."
   ]
  },
  {
   "cell_type": "markdown",
   "metadata": {},
   "source": [
    "## Conclusiones:"
   ]
  },
  {
   "cell_type": "markdown",
   "metadata": {},
   "source": [
    "Se ha analizado un conjunto de información que contiene datos referentes a la venta de distintos videojuegos para distintas plataformas, regiones geográficas y años."
   ]
  },
  {
   "cell_type": "markdown",
   "metadata": {},
   "source": [
    "A través de la lectura y familiarización con los datos, se ha podido establecer un subconjunto de información que guarda mayor relevancia para un análisis en el que busquemos construir un modelo de datos que guíe nuestras decisiones con vista a establecer estrategias para vender videojuegos en 2017 (el año inmediatamente posterior al último año de ventas registrado en nuestra base de datos). Este subconjunto contiene únicamente las plataformas que aún tienen tiempo dentro de su ciclo de vida, es decir, que llevan menos de 11 años en el mercado, pero que además considera únicamente ventas a partir de que salieron a la venta títulos para las plataformas más exitosas vigentes: la Play Station 4 (Sony) y el XBOX One (Microsoft)."
   ]
  },
  {
   "cell_type": "markdown",
   "metadata": {},
   "source": [
    "Analizamos y comparamos múltiples variables que nos han permitido conocer un poco más sobre los mercados regionales, sin embargo, salvo por una diferencia significativa en la preferencia de plataformas en Japón, podemos ver que el mercado de los videojuegos es más o menos homogéneo en todo el mundo, considerando estos datos:\n",
    "1) Las plataformas \"fijas\" captan más ventas que las móviles, siendo PS4 y XOne las más populares del momento.\n",
    "2) La caída en ventas que se ha experimentado desde 2009 es generalizada en todos los aspectos y regiones. *Quizá una pandemia obligue a la gente a permanecer en casa y buscar entretenimiento en los videojuegos de modo que se logre el mayor pico de ventas histórico, pero eso es un quizá muy difícil...*\n",
    "3) Los juegos con clasificación para adultos (M) suelen generar más ingresos.\n",
    "4) Identificamos los géneros cuyos títulos, en promedio, generan más ganancias, lo cual pudimos confirmar al revisar los 5 títulos que más ventas consiguieron en nuestro subconjunto de información y ver que 3 son shooter, 2 son de clasificación M y otros 2 sin clasificación pero con altas probabilidad de ser clasificados M intuyéndose por el título.\n",
    "5) A pesar de todo lo que se pudiera especular, con los datos con los que contamos, no tenemos suficiente información para poder establecer una correlación entre las clasificaciones de los usuarios o de la crítica y el desempeño en ventas de los títulos y plataformas."
   ]
  },
  {
   "cell_type": "markdown",
   "metadata": {},
   "source": [
    "Viendo hacia el futuro de un análisis con el cual planear el lanzamiento de un videojuego nuevo para 2017, podríamos concluir que contamos con suficientes herramientas para hacer un primer planteamiento y que este sería: un juego *shooter*, de clasificación *M*, lanzado a las consolas *PS4, XOne, WiiU y PC*.\n",
    "\n",
    "(Wii ya estaría en su año 11 de ventas en 2017 y quizá no convenga incluirlo, PSV realmente no tuvo tantas ventas salvo en Japón, se pueden ahorrar costos de desarrollo al no lanzar el juego en esta plataforma móvil.)"
   ]
  }
 ],
 "metadata": {
  "kernelspec": {
   "display_name": "Python 3",
   "language": "python",
   "name": "python3"
  },
  "language_info": {
   "codemirror_mode": {
    "name": "ipython",
    "version": 3
   },
   "file_extension": ".py",
   "mimetype": "text/x-python",
   "name": "python",
   "nbconvert_exporter": "python",
   "pygments_lexer": "ipython3",
   "version": "3.10.11"
  }
 },
 "nbformat": 4,
 "nbformat_minor": 2
}
